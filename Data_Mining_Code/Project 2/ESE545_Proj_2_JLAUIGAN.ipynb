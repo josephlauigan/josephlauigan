{
 "cells": [
  {
   "cell_type": "code",
   "execution_count": 2,
   "metadata": {},
   "outputs": [
    {
     "name": "stderr",
     "output_type": "stream",
     "text": [
      "C:\\Users\\josep\\AppData\\Local\\Continuum\\anaconda3\\lib\\site-packages\\h5py\\__init__.py:36: FutureWarning: Conversion of the second argument of issubdtype from `float` to `np.floating` is deprecated. In future, it will be treated as `np.float64 == np.dtype(float).type`.\n",
      "  from ._conv import register_converters as _register_converters\n"
     ]
    },
    {
     "name": "stdout",
     "output_type": "stream",
     "text": [
      "TensorFlow version: 1.11.0\n"
     ]
    }
   ],
   "source": [
    "import tensorflow as tf\n",
    "print (\"TensorFlow version: \" + tf.__version__)"
   ]
  },
  {
   "cell_type": "code",
   "execution_count": 3,
   "metadata": {},
   "outputs": [],
   "source": [
    "import numpy as np\n",
    "from collections import Counter\n",
    "import matplotlib.pyplot as plt\n",
    "from mpl_toolkits.mplot3d import Axes3D\n",
    "from tensorflow import keras\n",
    "import scipy\n",
    "import time"
   ]
  },
  {
   "cell_type": "markdown",
   "metadata": {},
   "source": [
    "# Prob 1"
   ]
  },
  {
   "cell_type": "code",
   "execution_count": 4,
   "metadata": {},
   "outputs": [],
   "source": [
    "#Import RCV1 Dataset - will be imported as Compressed Sparse Row format (CSR)\n",
    "# rcv1.data = data matrix (articles x features)\n",
    "# rcv1.target = topics matrix (articles x topics)\n",
    "# CCAT topic is column 33 in rcv1.target\n",
    "from sklearn.datasets import fetch_rcv1\n",
    "rcv1 = fetch_rcv1()"
   ]
  },
  {
   "cell_type": "markdown",
   "metadata": {},
   "source": [
    "## Part 1a - Label Vector Creation"
   ]
  },
  {
   "cell_type": "code",
   "execution_count": 5,
   "metadata": {},
   "outputs": [
    {
     "name": "stdout",
     "output_type": "stream",
     "text": [
      "label_vect initialized correctly\n"
     ]
    }
   ],
   "source": [
    "article_num = len(rcv1.target.indptr)\n",
    "\n",
    "#find indices of rows that have a nonzero element in column 33 = CCAT\n",
    "ccat_col_indices = [index for index,col in list(enumerate(rcv1.target.indices)) if col == 33]\n",
    "\n",
    "label_vect_list = []\n",
    "j = 0\n",
    "#now need to map these column indices to corresponding articles in target\n",
    "for i in range(article_num):\n",
    "    #finsihed classifying all indices\n",
    "    if j == len(ccat_col_indices):\n",
    "        #label the rest of the articles -1\n",
    "        label_vect_list.append(-1)\n",
    "    else:\n",
    "        if i == article_num-1 and ccat_col_indices[j] >= rcv1.target.indptr[i]:\n",
    "            label_vect_list.append(1)\n",
    "            j += 1\n",
    "        elif ccat_col_indices[j] >= rcv1.target.indptr[i] and ccat_col_indices[j] < rcv1.target.indptr[i+1]:\n",
    "            label_vect_list.append(1)\n",
    "            j += 1\n",
    "        else:\n",
    "            label_vect_list.append(-1)\n",
    "            \n",
    "#convert from list to numpy array\n",
    "label_vect = np.array(label_vect_list)\n",
    "\n",
    "#check to ensure label vect was populated correctly\n",
    "errors = []\n",
    "label_indx = [index for index,label in list(enumerate(label_vect)) if label == 1]\n",
    "j=0\n",
    "for index in label_indx:\n",
    "    if not (ccat_col_indices[j] >= rcv1.target.indptr[index] and ccat_col_indices[j] < rcv1.target.indptr[index+1]):\n",
    "        errors.append(index)\n",
    "    j+=1\n",
    "if(not errors):\n",
    "    print(\"label_vect initialized correctly\")"
   ]
  },
  {
   "cell_type": "markdown",
   "metadata": {},
   "source": [
    "## Part 1b - Training and Test Data Parsing"
   ]
  },
  {
   "cell_type": "code",
   "execution_count": 6,
   "metadata": {},
   "outputs": [],
   "source": [
    "#Segment out training set and test set\n",
    "training_len = 100000"
   ]
  },
  {
   "cell_type": "code",
   "execution_count": 7,
   "metadata": {},
   "outputs": [],
   "source": [
    "training_data_labels = label_vect[0:training_len]\n",
    "training_data_indptr = rcv1.data.indptr[0:training_len]\n",
    "training_data_data = rcv1.data.data[0:training_data_indptr[training_len-1]]\n",
    "training_data_indices = rcv1.data.indices[0:training_data_indptr[training_len-1]]\n",
    "\n",
    "test_data_labels = label_vect[training_len:article_num]\n",
    "test_data_indptr = rcv1.data.indptr[training_len:article_num]\n",
    "test_data_len = len(test_data_labels)\n",
    "test_data_indices = rcv1.data.indices[test_data_indptr[0]:test_data_indptr[test_data_len-1]]\n",
    "test_data_data = rcv1.data.data[test_data_indptr[0]:test_data_indptr[test_data_len-1]]"
   ]
  },
  {
   "cell_type": "markdown",
   "metadata": {},
   "source": [
    "# Prob 2 - PEGASOS"
   ]
  },
  {
   "cell_type": "markdown",
   "metadata": {},
   "source": [
    "## Parameter Analysis - Lambda and Min_batch size"
   ]
  },
  {
   "cell_type": "code",
   "execution_count": 277,
   "metadata": {},
   "outputs": [
    {
     "name": "stdout",
     "output_type": "stream",
     "text": [
      "lambda:  1e-05 min_batch:  1e-05\n",
      "lambda:  1e-05 min_batch:  0.0001\n",
      "lambda:  1e-05 min_batch:  0.001\n",
      "lambda:  1e-05 min_batch:  0.01\n",
      "lambda:  1e-05 min_batch:  0.1\n",
      "lambda:  0.0001 min_batch:  1e-05\n",
      "lambda:  0.0001 min_batch:  0.0001\n",
      "lambda:  0.0001 min_batch:  0.001\n",
      "lambda:  0.0001 min_batch:  0.01\n",
      "lambda:  0.0001 min_batch:  0.1\n",
      "lambda:  0.001 min_batch:  1e-05\n",
      "lambda:  0.001 min_batch:  0.0001\n",
      "lambda:  0.001 min_batch:  0.001\n",
      "lambda:  0.001 min_batch:  0.01\n",
      "lambda:  0.001 min_batch:  0.1\n",
      "lambda:  0.01 min_batch:  1e-05\n",
      "lambda:  0.01 min_batch:  0.0001\n",
      "lambda:  0.01 min_batch:  0.001\n",
      "lambda:  0.01 min_batch:  0.01\n",
      "lambda:  0.01 min_batch:  0.1\n",
      "lambda:  0.1 min_batch:  1e-05\n",
      "lambda:  0.1 min_batch:  0.0001\n",
      "lambda:  0.1 min_batch:  0.001\n",
      "lambda:  0.1 min_batch:  0.01\n",
      "lambda:  0.1 min_batch:  0.1\n"
     ]
    }
   ],
   "source": [
    "#PEGASOS Parameters - Regularization (lambda), iterations (T), min-batch size(batch_size)\n",
    "#Will run analysis analysis on all the parameters to check what the optimal point is.\n",
    "#each graph will be training error vs number of iterations\n",
    "\n",
    "T = 1000 #Fix iteration to analyze parameters \n",
    "pegasos_lambda_range = [10**(-5),10**(-4),10**(-3),10**(-2),10**(-1)]\n",
    "min_batch_percent_range = [10**(-5),10**(-4),10**(-3),10**(-2),10**(-1)] #percent of training set to use as min-batch\n",
    "weight_length = max(rcv1.data.indices)+1\n",
    "\n",
    "#calculate the lengths of the articles rows.\n",
    "training_data_row_length = np.diff(training_data_indptr)\n",
    "#append the length of the last article\n",
    "training_data_row_length = np.append(training_data_row_length,len(training_data_indices)-training_data_indptr[len(training_data_indptr)-1])\n",
    "\n",
    "error_matrix = np.zeros((len(pegasos_lambda_range),len(min_batch_percent_range)))\n",
    "pegasos_index = 0\n",
    "                        \n",
    "for pegasos_lambda in pegasos_lambda_range:\n",
    "    min_batch_index = 0\n",
    "    for min_batch_percent in min_batch_percent_range:\n",
    "        print('lambda: ',pegasos_lambda,'min_batch: ',min_batch_percent)\n",
    "        #Choose random subset of training , initialize weight to zero\n",
    "        subset_length = int(min_batch_percent*training_len)\n",
    "        w_pegasos = np.zeros(weight_length)\n",
    "        for i in range(T):\n",
    "            #adjust from i = 0:T-1 to i=1:T\n",
    "            i += 1\n",
    "            #choose random subset of artciles to use as min batch\n",
    "            A_t = np.random.choice(training_len-1,subset_length)\n",
    "    \n",
    "            #initialize variable for sum of rows in A_t_dag\n",
    "            grad_sum = np.zeros(weight_length)\n",
    "            for index in A_t:\n",
    "                row_data = training_data_data[training_data_indptr[index]:training_data_indptr[index]+training_data_row_length[index]]\n",
    "                row_data_indices = training_data_indices[training_data_indptr[index]:training_data_indptr[index]+training_data_row_length[index]]\n",
    "            \n",
    "                #only dealing with weights corresponding to indices that are in this row. Update happens on these indices, then are\n",
    "                # placed back into the overall w\n",
    "                w_pegasos_row = w_pegasos[row_data_indices]\n",
    "            \n",
    "            \n",
    "                if training_data_labels[index]*np.inner(w_pegasos_row,row_data) < 1:\n",
    "                    grad_sum[row_data_indices] += training_data_labels[index]*row_data\n",
    "        \n",
    "            grad = pegasos_lambda*w_pegasos - (1/subset_length)*grad_sum\n",
    "            eta = 1/(i*pegasos_lambda)\n",
    "            w_pegasos_t_prime = w_pegasos - eta*grad\n",
    "            w_pegasos = min(1,((1/np.sqrt(pegasos_lambda))/np.sqrt(np.inner(w_pegasos_t_prime,w_pegasos_t_prime))))*w_pegasos_t_prime\n",
    "        \n",
    "        errors = 0\n",
    "        for i in range(training_len):\n",
    "            row_data = training_data_data[training_data_indptr[i]:training_data_indptr[i]+training_data_row_length[i]]\n",
    "            row_data_indices = training_data_indices[training_data_indptr[i]:training_data_indptr[i]+training_data_row_length[i]]\n",
    "            \n",
    "            #only dealing with weights corresponding to indices that are in this row. Update happens on these indices, then are\n",
    "            # placed back into the overall w\n",
    "            w_pegasos_row = w_pegasos[row_data_indices]\n",
    "    \n",
    "    \n",
    "            pred = np.sign(np.inner(w_pegasos_row,row_data))\n",
    "    \n",
    "            if not pred == training_data_labels[i]:\n",
    "                errors += 1\n",
    "        \n",
    "        error_matrix[pegasos_index][min_batch_index] = errors/training_len\n",
    "        min_batch_index += 1\n",
    "    \n",
    "    pegasos_index += 1\n"
   ]
  },
  {
   "cell_type": "code",
   "execution_count": 279,
   "metadata": {},
   "outputs": [
    {
     "data": {
      "text/plain": [
       "array([[0.26158, 0.09267, 0.04912, 0.03565, 0.03507],\n",
       "       [0.17659, 0.07091, 0.0545 , 0.05307, 0.05293],\n",
       "       [0.09437, 0.07948, 0.07872, 0.08   , 0.07947],\n",
       "       [0.14134, 0.17044, 0.17883, 0.17907, 0.18072],\n",
       "       [0.18916, 0.20904, 0.1991 , 0.19287, 0.19297]])"
      ]
     },
     "execution_count": 279,
     "metadata": {},
     "output_type": "execute_result"
    }
   ],
   "source": [
    "error_matrix\n",
    "#lowest training error is with lambda  = 1e-5 and min_batch = 0.01"
   ]
  },
  {
   "cell_type": "markdown",
   "metadata": {},
   "source": [
    "## PEGASOS - Training Error with optimal parameters "
   ]
  },
  {
   "cell_type": "code",
   "execution_count": 38,
   "metadata": {},
   "outputs": [
    {
     "name": "stdout",
     "output_type": "stream",
     "text": [
      "T =  1000\n",
      "T =  2000\n",
      "T =  4000\n",
      "T =  8000\n",
      "T =  16000\n"
     ]
    },
    {
     "data": {
      "text/plain": [
       "Text(0,0.5,'Training Error')"
      ]
     },
     "execution_count": 38,
     "metadata": {},
     "output_type": "execute_result"
    },
    {
     "data": {
      "image/png": "[encoded data removed]",
      "text/plain": [
       "<Figure size 432x288 with 1 Axes>"
      ]
     },
     "metadata": {},
     "output_type": "display_data"
    }
   ],
   "source": [
    "#PEGASOS Parameters - Regularization (lambda), iterations (T), min-batch size(batch_size)\n",
    "\n",
    "T = [1000,2000,4000,8000,16000]\n",
    "weight_length = max(rcv1.data.indices)+1\n",
    "\n",
    "#Set parameters to optimum value\n",
    "pegasos_lambda = 10**(-5)\n",
    "min_batch_percent = 0.01\n",
    "\n",
    "#calculate the lengths of the articles rows.\n",
    "training_data_row_length = np.diff(training_data_indptr)\n",
    "#append the length of the last article\n",
    "training_data_row_length = np.append(training_data_row_length,len(training_data_indices)-training_data_indptr[len(training_data_indptr)-1])\n",
    "\n",
    "\n",
    "#Choose random subset of training , initialize weight to zero\n",
    "subset_length = int(min_batch_percent*training_len)\n",
    "\n",
    "iteration_index = 0\n",
    "w_pegasos_array = []\n",
    "for iterations in T:\n",
    "    print('T = ',iterations)\n",
    "    w_pegasos = np.zeros(weight_length)\n",
    "    for i in range(iterations):\n",
    "        #adjust from i = 0:T-1 to i=1:T\n",
    "        i += 1\n",
    "        #choose random subset of artciles to use as min batch\n",
    "        A_t = np.random.choice(training_len-1,subset_length)\n",
    "    \n",
    "        #initialize variable for sum of rows in A_t_dag\n",
    "        grad_sum = np.zeros(weight_length)\n",
    "        for index in A_t:\n",
    "            row_data = training_data_data[training_data_indptr[index]:training_data_indptr[index]+training_data_row_length[index]]\n",
    "            row_data_indices = training_data_indices[training_data_indptr[index]:training_data_indptr[index]+training_data_row_length[index]]\n",
    "            \n",
    "            #only dealing with weights corresponding to indices that are in this row. Update happens on these indices, then are\n",
    "            # placed back into the overall w\n",
    "            w_pegasos_row = w_pegasos[row_data_indices]\n",
    "            \n",
    "            \n",
    "            if training_data_labels[index]*np.inner(w_pegasos_row,row_data) < 1:\n",
    "                grad_sum[row_data_indices] += training_data_labels[index]*row_data\n",
    "        \n",
    "        grad = pegasos_lambda*w_pegasos - (1/subset_length)*grad_sum\n",
    "        eta = 1/(i*pegasos_lambda)\n",
    "        w_pegasos_t_prime = w_pegasos - eta*grad\n",
    "        w_pegasos = min(1,((1/np.sqrt(pegasos_lambda))/np.sqrt(np.inner(w_pegasos_t_prime,w_pegasos_t_prime))))*w_pegasos_t_prime\n",
    "        \n",
    "        \n",
    "    \n",
    "    iteration_index += 1\n",
    "    w_pegasos_array.append(w_pegasos)\n",
    "\n",
    "#training error\n",
    "training_errors_pegasos = []\n",
    "for weights in w_pegasos_array:\n",
    "    errors = 0\n",
    "    for i in range(training_len):\n",
    "        row_data = training_data_data[training_data_indptr[i]:training_data_indptr[i]+training_data_row_length[i]]\n",
    "        row_data_indices = training_data_indices[training_data_indptr[i]:training_data_indptr[i]+training_data_row_length[i]]\n",
    "            \n",
    "        #only dealing with weights corresponding to indices that are in this row. Update happens on these indices, then are\n",
    "        # placed back into the overall w\n",
    "        w_pegasos_row = weights[row_data_indices]\n",
    "    \n",
    "    \n",
    "        pred = np.sign(np.inner(w_pegasos_row,row_data))\n",
    "    \n",
    "        if not pred == training_data_labels[i]:\n",
    "            errors += 1\n",
    "\n",
    "    training_errors_pegasos.append(errors/training_len)\n",
    "    \n",
    "plt.plot(T,training_errors_pegasos)  \n",
    "plt.xlabel(\"Iterations\")\n",
    "plt.ylabel(\"Training Error\")"
   ]
  },
  {
   "cell_type": "markdown",
   "metadata": {},
   "source": [
    "# Problem 3 - Adagrad"
   ]
  },
  {
   "cell_type": "markdown",
   "metadata": {},
   "source": [
    "## Parameter Analysis - Min_batch size "
   ]
  },
  {
   "cell_type": "code",
   "execution_count": 42,
   "metadata": {},
   "outputs": [
    {
     "name": "stdout",
     "output_type": "stream",
     "text": [
      "min_batch:  1e-05\n",
      "min_batch:  0.0001\n",
      "min_batch:  0.001\n",
      "min_batch:  0.01\n",
      "min_batch:  0.1\n"
     ]
    },
    {
     "data": {
      "text/plain": [
       "Text(0,0.5,'Training Error')"
      ]
     },
     "execution_count": 42,
     "metadata": {},
     "output_type": "execute_result"
    },
    {
     "data": {
      "image/png": "[encoded data removed]",
      "text/plain": [
       "<Figure size 432x288 with 1 Axes>"
      ]
     },
     "metadata": {},
     "output_type": "display_data"
    }
   ],
   "source": [
    "#Analysis on min_batch parameter optimization for fixed iteration length\n",
    "\n",
    "T = 4000\n",
    "weight_length = max(rcv1.data.indices)+1\n",
    "\n",
    "min_batch_percent_range = [10**(-5),10**(-4),10**(-3),10**(-2),10**(-1)] #percent of training set to use as min-batch\n",
    "#calculate the lengths of the articles rows.\n",
    "training_data_row_length = np.diff(training_data_indptr)\n",
    "#append the length of the last article\n",
    "training_data_row_length = np.append(training_data_row_length,len(training_data_indices)-training_data_indptr[len(training_data_indptr)-1])\n",
    "\n",
    "min_batch_index = 0\n",
    "    \n",
    "iteration_index = 0\n",
    "w_adagrad_array = []\n",
    "G_t = np.ones(weight_length)\n",
    "for min_batch_percent in min_batch_percent_range:\n",
    "    print('min_batch: ',min_batch_percent)\n",
    "    subset_length = int(min_batch_percent*training_len)\n",
    "    w_adagrad = np.zeros(weight_length)\n",
    "    for i in range(iterations):\n",
    "        #adjust from i = 0:T-1 to i=1:T\n",
    "        i += 1\n",
    "        \n",
    "        #pick index at random\n",
    "        #choose random subset of artciles to use as min batch\n",
    "        A_t = np.random.choice(training_len-1,subset_length)\n",
    "        \n",
    "        for index in A_t:\n",
    "            row_data = training_data_data[training_data_indptr[index]:training_data_indptr[index]+training_data_row_length[index]]\n",
    "            row_data_indices = training_data_indices[training_data_indptr[index]:training_data_indptr[index]+training_data_row_length[index]]\n",
    "            \n",
    "            #only dealing with weights corresponding to indices that are in this row. Update happens on these indices, then are\n",
    "            # placed back into the overall w\n",
    "            w_adagrad_row = w_adagrad[row_data_indices]\n",
    "            \n",
    "            if training_data_labels[index]*np.inner(w_adagrad_row,row_data) < 1:\n",
    "                G_t_row = np.reciprocal(G_t)[row_data_indices]\n",
    "                w_adagrad_p = w_adagrad_row + (1/np.sqrt(iterations))*training_data_labels[index]* np.array([np.sqrt(G_t_row[r])*row_data[r] for r in range(len(row_data))])\n",
    "                w_adagrad[row_data_indices] = w_adagrad_p\n",
    "            \n",
    "                ##UPDATE G_T\n",
    "                G_t[row_data_indices] = G_t_row + np.diag(np.outer(-training_data_labels[index]*row_data,-training_data_labels[index]*row_data))\n",
    "    \n",
    "    iteration_index += 1\n",
    "    w_adagrad_array.append(w_adagrad)\n",
    "\n",
    "#training error\n",
    "training_errors = []\n",
    "for weights in w_adagrad_array:\n",
    "    errors = 0\n",
    "    for i in range(training_len):\n",
    "        row_data = training_data_data[training_data_indptr[i]:training_data_indptr[i]+training_data_row_length[i]]\n",
    "        row_data_indices = training_data_indices[training_data_indptr[i]:training_data_indptr[i]+training_data_row_length[i]]\n",
    "            \n",
    "        #only dealing with weights corresponding to indices that are in this row. Update happens on these indices, then are\n",
    "        # placed back into the overall w\n",
    "        w_adagrad_row = weights[row_data_indices]\n",
    "    \n",
    "    \n",
    "        pred = np.sign(np.inner(w_adagrad_row,row_data))\n",
    "    \n",
    "        if not pred == training_data_labels[i]:\n",
    "            errors += 1\n",
    "\n",
    "    training_errors.append(errors/training_len)\n",
    "    \n",
    "plt.plot(min_batch_percent_range,training_errors) \n",
    "plt.xlabel(\"min batch percent\")\n",
    "plt.xticks(min_batch_percent_range)\n",
    "plt.ylabel(\"Training Error\")"
   ]
  },
  {
   "cell_type": "markdown",
   "metadata": {},
   "source": [
    "## Parameter Estimation - Learning Rate "
   ]
  },
  {
   "cell_type": "code",
   "execution_count": 19,
   "metadata": {},
   "outputs": [
    {
     "name": "stdout",
     "output_type": "stream",
     "text": [
      "eta: 0.001\n",
      "eta: 0.01\n",
      "eta: 0.1\n",
      "eta: 1\n",
      "eta: 10\n"
     ]
    },
    {
     "ename": "NameError",
     "evalue": "name 'etarange' is not defined",
     "output_type": "error",
     "traceback": [
      "\u001b[1;31m---------------------------------------------------------------------------\u001b[0m",
      "\u001b[1;31mNameError\u001b[0m                                 Traceback (most recent call last)",
      "\u001b[1;32m<ipython-input-19-5b1b702be768>\u001b[0m in \u001b[0;36m<module>\u001b[1;34m()\u001b[0m\n\u001b[0;32m     69\u001b[0m \u001b[0mplt\u001b[0m\u001b[1;33m.\u001b[0m\u001b[0mplot\u001b[0m\u001b[1;33m(\u001b[0m\u001b[0meta_range\u001b[0m\u001b[1;33m,\u001b[0m\u001b[0mtraining_errors\u001b[0m\u001b[1;33m)\u001b[0m\u001b[1;33m\u001b[0m\u001b[0m\n\u001b[0;32m     70\u001b[0m \u001b[0mplt\u001b[0m\u001b[1;33m.\u001b[0m\u001b[0mxlabel\u001b[0m\u001b[1;33m(\u001b[0m\u001b[1;34m\"eta\"\u001b[0m\u001b[1;33m)\u001b[0m\u001b[1;33m\u001b[0m\u001b[0m\n\u001b[1;32m---> 71\u001b[1;33m \u001b[0mplt\u001b[0m\u001b[1;33m.\u001b[0m\u001b[0mxticks\u001b[0m\u001b[1;33m(\u001b[0m\u001b[0metarange\u001b[0m\u001b[1;33m)\u001b[0m\u001b[1;33m\u001b[0m\u001b[0m\n\u001b[0m\u001b[0;32m     72\u001b[0m \u001b[0mplt\u001b[0m\u001b[1;33m.\u001b[0m\u001b[0mylabel\u001b[0m\u001b[1;33m(\u001b[0m\u001b[1;34m\"Training Error\"\u001b[0m\u001b[1;33m)\u001b[0m\u001b[1;33m\u001b[0m\u001b[0m\n",
      "\u001b[1;31mNameError\u001b[0m: name 'etarange' is not defined"
     ]
    },
    {
     "data": {
      "image/png": "[encoded data removed]",
      "text/plain": [
       "<Figure size 432x288 with 1 Axes>"
      ]
     },
     "metadata": {},
     "output_type": "display_data"
    }
   ],
   "source": [
    "#Analysis on eta parameter optimization for fixed iteration length\n",
    "\n",
    "T = 1000\n",
    "weight_length = max(rcv1.data.indices)+1\n",
    "\n",
    "min_batch_percentage = 0.01\n",
    "\n",
    "eta_range = [0.001,0.01,0.1,1,10] \n",
    "#calculate the lengths of the articles rows.\n",
    "training_data_row_length = np.diff(training_data_indptr)\n",
    "#append the length of the last article\n",
    "training_data_row_length = np.append(training_data_row_length,len(training_data_indices)-training_data_indptr[len(training_data_indptr)-1])\n",
    "\n",
    "    \n",
    "iteration_index = 0\n",
    "w_adagrad_array = []\n",
    "G_t = np.ones(weight_length)\n",
    "subset_length = int(min_batch_percent*training_len)\n",
    "for eta in eta_range:\n",
    "    print(\"eta:\",eta)\n",
    "    w_adagrad = np.zeros(weight_length)\n",
    "    for i in range(T):\n",
    "        #adjust from i = 0:T-1 to i=1:T\n",
    "        i += 1\n",
    "        \n",
    "        #pick index at random\n",
    "        #choose random subset of artciles to use as min batch\n",
    "        A_t = np.random.choice(training_len-1,subset_length)\n",
    "        \n",
    "        for index in A_t:\n",
    "            row_data = training_data_data[training_data_indptr[index]:training_data_indptr[index]+training_data_row_length[index]]\n",
    "            row_data_indices = training_data_indices[training_data_indptr[index]:training_data_indptr[index]+training_data_row_length[index]]\n",
    "            \n",
    "            #only dealing with weights corresponding to indices that are in this row. Update happens on these indices, then are\n",
    "            # placed back into the overall w\n",
    "            w_adagrad_row = w_adagrad[row_data_indices]\n",
    "            \n",
    "            if training_data_labels[index]*np.inner(w_adagrad_row,row_data) < 1:\n",
    "                G_t_row = np.reciprocal(G_t)[row_data_indices]\n",
    "                w_adagrad_p = w_adagrad_row + eta*training_data_labels[index]* np.array([np.sqrt(G_t_row[r])*row_data[r] for r in range(len(row_data))])\n",
    "                w_adagrad[row_data_indices] = w_adagrad_p\n",
    "            \n",
    "                ##UPDATE G_T\n",
    "                G_t[row_data_indices] = G_t_row + np.diag(np.outer(-training_data_labels[index]*row_data,-training_data_labels[index]*row_data))\n",
    "    \n",
    "    iteration_index += 1\n",
    "    w_adagrad_array.append(w_adagrad)\n",
    "\n",
    "#training error\n",
    "training_errors = []\n",
    "for weights in w_adagrad_array:\n",
    "    errors = 0\n",
    "    for i in range(training_len):\n",
    "        row_data = training_data_data[training_data_indptr[i]:training_data_indptr[i]+training_data_row_length[i]]\n",
    "        row_data_indices = training_data_indices[training_data_indptr[i]:training_data_indptr[i]+training_data_row_length[i]]\n",
    "            \n",
    "        #only dealing with weights corresponding to indices that are in this row. Update happens on these indices, then are\n",
    "        # placed back into the overall w\n",
    "        w_adagrad_row = weights[row_data_indices]\n",
    "    \n",
    "    \n",
    "        pred = np.sign(np.inner(w_adagrad_row,row_data))\n",
    "    \n",
    "        if not pred == training_data_labels[i]:\n",
    "            errors += 1\n",
    "\n",
    "    training_errors.append(errors/training_len)\n",
    "    \n",
    "plt.plot(eta_range,training_errors) \n",
    "plt.xlabel(\"eta\")\n",
    "plt.xticks(etarange)\n",
    "plt.ylabel(\"Training Error\")"
   ]
  },
  {
   "cell_type": "code",
   "execution_count": 20,
   "metadata": {},
   "outputs": [
    {
     "data": {
      "text/plain": [
       "Text(0,0.5,'Training Error')"
      ]
     },
     "execution_count": 20,
     "metadata": {},
     "output_type": "execute_result"
    },
    {
     "data": {
      "image/png": "[encoded data removed]",
      "text/plain": [
       "<Figure size 432x288 with 1 Axes>"
      ]
     },
     "metadata": {},
     "output_type": "display_data"
    }
   ],
   "source": [
    "plt.plot(eta_range,training_errors) \n",
    "plt.xlabel(\"eta\")\n",
    "plt.xticks(eta_range)\n",
    "plt.ylabel(\"Training Error\")"
   ]
  },
  {
   "cell_type": "markdown",
   "metadata": {},
   "source": [
    "## Training Error with set learning rate of 1 "
   ]
  },
  {
   "cell_type": "code",
   "execution_count": 33,
   "metadata": {},
   "outputs": [
    {
     "name": "stdout",
     "output_type": "stream",
     "text": [
      "T =  1000\n",
      "T =  2000\n",
      "T =  4000\n",
      "T =  8000\n",
      "T =  16000\n"
     ]
    },
    {
     "data": {
      "text/plain": [
       "Text(0,0.5,'Training Error')"
      ]
     },
     "execution_count": 33,
     "metadata": {},
     "output_type": "execute_result"
    },
    {
     "data": {
      "image/png": "[encoded data removed]",
      "text/plain": [
       "<Figure size 432x288 with 1 Axes>"
      ]
     },
     "metadata": {},
     "output_type": "display_data"
    }
   ],
   "source": [
    "#Implement Adagrad algorithm - eta as 1\n",
    "\n",
    "min_batch_percent = 0.01\n",
    "\n",
    "T = [1000,2000,4000,8000,16000]\n",
    "weight_length = max(rcv1.data.indices)+1\n",
    "\n",
    "iteration_index = 0\n",
    "w_adagrad_array = []\n",
    "G_t = np.ones(weight_length)\n",
    "subset_length = int(min_batch_percent*training_len)\n",
    "for iterations in T:\n",
    "    print('T = ',iterations)\n",
    "    w_adagrad = np.zeros(weight_length)\n",
    "    for i in range(iterations):\n",
    "        #adjust from i = 0:T-1 to i=1:T\n",
    "        i += 1\n",
    "        \n",
    "        #pick index at random\n",
    "        #choose random subset of artciles to use as min batch\n",
    "        A_t = np.random.choice(training_len-1,subset_length)\n",
    "        \n",
    "        for index in A_t:\n",
    "            row_data = training_data_data[training_data_indptr[index]:training_data_indptr[index]+training_data_row_length[index]]\n",
    "            row_data_indices = training_data_indices[training_data_indptr[index]:training_data_indptr[index]+training_data_row_length[index]]\n",
    "            \n",
    "            #only dealing with weights corresponding to indices that are in this row. Update happens on these indices, then are\n",
    "            # placed back into the overall w\n",
    "            w_adagrad_row = w_adagrad[row_data_indices]\n",
    "            \n",
    "            if training_data_labels[index]*np.inner(w_adagrad_row,row_data) < 1:\n",
    "                G_t_row = np.reciprocal(G_t)[row_data_indices]\n",
    "                w_adagrad_p = w_adagrad_row + training_data_labels[index]* np.array([np.sqrt(G_t_row[r])*row_data[r] for r in range(len(row_data))])\n",
    "                w_adagrad[row_data_indices] = w_adagrad_p\n",
    "            \n",
    "                ##UPDATE G_T\n",
    "                G_t[row_data_indices] = G_t_row + np.diag(np.outer(-training_data_labels[index]*row_data,-training_data_labels[index]*row_data))\n",
    "    \n",
    "    iteration_index += 1\n",
    "    w_adagrad_array.append(w_adagrad)\n",
    "\n",
    "#training error\n",
    "training_errors_adagrad = []\n",
    "for weights in w_adagrad_array:\n",
    "    errors = 0\n",
    "    for i in range(training_len):\n",
    "        row_data = training_data_data[training_data_indptr[i]:training_data_indptr[i]+training_data_row_length[i]]\n",
    "        row_data_indices = training_data_indices[training_data_indptr[i]:training_data_indptr[i]+training_data_row_length[i]]\n",
    "            \n",
    "        #only dealing with weights corresponding to indices that are in this row. Update happens on these indices, then are\n",
    "        # placed back into the overall w\n",
    "        w_adagrad_row = weights[row_data_indices]\n",
    "    \n",
    "    \n",
    "        pred = np.sign(np.inner(w_adagrad_row,row_data))\n",
    "    \n",
    "        if not pred == training_data_labels[i]:\n",
    "            errors += 1\n",
    "\n",
    "    training_errors_adagrad.append(errors/training_len)\n",
    "    \n",
    "plt.plot(T,training_errors_adagrad)  \n",
    "plt.xlabel(\"Iterations\")\n",
    "plt.ylabel(\"Training Error\")"
   ]
  },
  {
   "cell_type": "markdown",
   "metadata": {},
   "source": [
    "## Training error with learning rate set at 1/sqrt(T) "
   ]
  },
  {
   "cell_type": "code",
   "execution_count": 43,
   "metadata": {},
   "outputs": [
    {
     "name": "stdout",
     "output_type": "stream",
     "text": [
      "T =  1000\n",
      "T =  2000\n",
      "T =  4000\n",
      "T =  8000\n",
      "T =  16000\n"
     ]
    },
    {
     "data": {
      "text/plain": [
       "Text(0,0.5,'Training Error')"
      ]
     },
     "execution_count": 43,
     "metadata": {},
     "output_type": "execute_result"
    },
    {
     "data": {
      "image/png": "[encoded data removed]",
      "text/plain": [
       "<Figure size 432x288 with 1 Axes>"
      ]
     },
     "metadata": {},
     "output_type": "display_data"
    }
   ],
   "source": [
    "#Implement Adagrad algorithm - eta as 1/sqrt(T)\n",
    "\n",
    "min_batch_percent = 0.01\n",
    "\n",
    "T = [1000,2000,4000,8000,16000]\n",
    "weight_length = max(rcv1.data.indices)+1\n",
    "\n",
    "iteration_index = 0\n",
    "w_adagrad_array = []\n",
    "G_t = np.ones(weight_length)\n",
    "subset_length = int(min_batch_percent*training_len)\n",
    "for iterations in T:\n",
    "    print('T = ',iterations)\n",
    "    w_adagrad = np.zeros(weight_length)\n",
    "    for i in range(iterations):\n",
    "        #adjust from i = 0:T-1 to i=1:T\n",
    "        i += 1\n",
    "        \n",
    "        #pick index at random\n",
    "        #choose random subset of artciles to use as min batch\n",
    "        A_t = np.random.choice(training_len-1,subset_length)\n",
    "        \n",
    "        for index in A_t:\n",
    "            row_data = training_data_data[training_data_indptr[index]:training_data_indptr[index]+training_data_row_length[index]]\n",
    "            row_data_indices = training_data_indices[training_data_indptr[index]:training_data_indptr[index]+training_data_row_length[index]]\n",
    "            \n",
    "            #only dealing with weights corresponding to indices that are in this row. Update happens on these indices, then are\n",
    "            # placed back into the overall w\n",
    "            w_adagrad_row = w_adagrad[row_data_indices]\n",
    "            \n",
    "            if training_data_labels[index]*np.inner(w_adagrad_row,row_data) < 1:\n",
    "                G_t_row = np.reciprocal(G_t)[row_data_indices]\n",
    "                w_adagrad_p = w_adagrad_row + (1/np.sqrt(iterations))*training_data_labels[index]* np.array([np.sqrt(G_t_row[r])*row_data[r] for r in range(len(row_data))])\n",
    "                w_adagrad[row_data_indices] = w_adagrad_p\n",
    "            \n",
    "                ##UPDATE G_T\n",
    "                G_t[row_data_indices] = G_t_row + np.diag(np.outer(-training_data_labels[index]*row_data,-training_data_labels[index]*row_data))\n",
    "    \n",
    "    iteration_index += 1\n",
    "    w_adagrad_array.append(w_adagrad)\n",
    "\n",
    "#training error\n",
    "training_errors = []\n",
    "for weights in w_adagrad_array:\n",
    "    errors = 0\n",
    "    for i in range(training_len):\n",
    "        row_data = training_data_data[training_data_indptr[i]:training_data_indptr[i]+training_data_row_length[i]]\n",
    "        row_data_indices = training_data_indices[training_data_indptr[i]:training_data_indptr[i]+training_data_row_length[i]]\n",
    "            \n",
    "        #only dealing with weights corresponding to indices that are in this row. Update happens on these indices, then are\n",
    "        # placed back into the overall w\n",
    "        w_adagrad_row = weights[row_data_indices]\n",
    "    \n",
    "    \n",
    "        pred = np.sign(np.inner(w_adagrad_row,row_data))\n",
    "    \n",
    "        if not pred == training_data_labels[i]:\n",
    "            errors += 1\n",
    "\n",
    "    training_errors.append(errors/training_len)\n",
    "    \n",
    "plt.plot(T,training_errors)  \n",
    "plt.xlabel(\"Iterations\")\n",
    "plt.ylabel(\"Training Error\")"
   ]
  },
  {
   "cell_type": "code",
   "execution_count": 39,
   "metadata": {},
   "outputs": [
    {
     "data": {
      "image/png": "[encoded data removed]",
      "text/plain": [
       "<Figure size 432x288 with 1 Axes>"
      ]
     },
     "metadata": {},
     "output_type": "display_data"
    }
   ],
   "source": [
    "T = [1000,2000,4000,8000,16000]    \n",
    "plt.plot(T,training_errors_pegasos,label='PEGASOS')  \n",
    "plt.plot(T,training_errors_adagrad,label='Adagrad')   \n",
    "plt.xlabel(\"Iterations\")\n",
    "plt.ylabel(\"Training Error\")\n",
    "plt.legend(loc='lower left')\n",
    "plt.show()"
   ]
  },
  {
   "cell_type": "markdown",
   "metadata": {},
   "source": [
    "# Problem 4 - Keras Neural Network"
   ]
  },
  {
   "cell_type": "markdown",
   "metadata": {},
   "source": [
    "### Batch Generator for conversion from sparse to dense representation "
   ]
  },
  {
   "cell_type": "code",
   "execution_count": 24,
   "metadata": {},
   "outputs": [],
   "source": [
    "# batch generator inspired by https://www.kaggle.com/c/talkingdata-mobile-user-demographics/discussion/22567\n",
    "# This batch generator is needed to feed dense representation of data to the neural networks for training\n",
    "def batch_generator(sparse_mat, labels, batch_size):\n",
    "    number_of_batches = np.ceil(sparse_mat.shape[0]/batch_size)\n",
    "    counter = 0\n",
    "    sample_index = np.arange(sparse_mat.shape[0])\n",
    "    while True:\n",
    "        batch_index = sample_index[batch_size*counter:batch_size*(counter+1)]\n",
    "        sparse_mat_batch = sparse_mat[batch_index,:].toarray()\n",
    "        labels_batch = labels[batch_index]\n",
    "        counter += 1\n",
    "        yield sparse_mat_batch, labels_batch\n",
    "        if (counter == number_of_batches):\n",
    "            counter = 0"
   ]
  },
  {
   "cell_type": "markdown",
   "metadata": {},
   "source": [
    "## Prob 4a "
   ]
  },
  {
   "cell_type": "markdown",
   "metadata": {},
   "source": [
    "### One Layer "
   ]
  },
  {
   "cell_type": "code",
   "execution_count": 454,
   "metadata": {},
   "outputs": [
    {
     "name": "stdout",
     "output_type": "stream",
     "text": [
      "Epoch 1/5\n",
      "1000/1000 [==============================] - 59s 59ms/step - loss: 0.6855 - acc: 0.5394\n",
      "Epoch 2/5\n",
      "1000/1000 [==============================] - 64s 64ms/step - loss: 0.6706 - acc: 0.5558\n",
      "Epoch 3/5\n",
      "1000/1000 [==============================] - 63s 63ms/step - loss: 0.6512 - acc: 0.6338\n",
      "Epoch 4/5\n",
      "1000/1000 [==============================] - 61s 61ms/step - loss: 0.6255 - acc: 0.7323\n",
      "Epoch 5/5\n",
      "1000/1000 [==============================] - 61s 61ms/step - loss: 0.5919 - acc: 0.8102\n",
      "Training complete: It's been  5.148521149158478 minutes\n"
     ]
    }
   ],
   "source": [
    "#One layer\n",
    "# Figure out how to get data in CSR format into NN - may need to iteratively make the row data dense representation \n",
    "sparse_mat = scipy.sparse.csr_matrix((training_data_data, training_data_indices, training_data_indptr))\n",
    "\n",
    "#Create baseline architecture for neural network - 1 hidden layer\n",
    "network = keras.Sequential()\n",
    "network.add(keras.layers.Dense(100,input_shape=(weight_length,),activation='relu'))\n",
    "network.add(keras.layers.Dense(1,input_shape=(100,),activation='sigmoid'))\n",
    "\n",
    "#implement binary cross entropy loss for NN classification problem - but need to change labels from {-1,1} to {0,1}\n",
    "nn_labels_list = [x if int(x) > 0 else 0 for x in label_vect_list]\n",
    "nn_labels = np.array(nn_labels_list)\n",
    "nn_training_data_labels = nn_labels[0:training_len-1]\n",
    "nn_test_data_labels = nn_labels[training_len:article_num]\n",
    "\n",
    "start_time = time.time()\n",
    "network.compile(loss='binary_crossentropy', optimizer=tf.train.GradientDescentOptimizer(0.01), metrics=['accuracy'])\n",
    "network.fit_generator(generator=batch_generator(sparse_mat, nn_training_data_labels, 100),epochs=5,steps_per_epoch=1000)\n",
    "print(\"Training complete: It's been \",((time.time()-start_time)/60),\"minutes\")  "
   ]
  },
  {
   "cell_type": "markdown",
   "metadata": {},
   "source": [
    "### Two Layers "
   ]
  },
  {
   "cell_type": "code",
   "execution_count": 455,
   "metadata": {},
   "outputs": [
    {
     "name": "stdout",
     "output_type": "stream",
     "text": [
      "Epoch 1/5\n",
      "1000/1000 [==============================] - 56s 56ms/step - loss: 0.6882 - acc: 0.5377\n",
      "Epoch 2/5\n",
      "1000/1000 [==============================] - 59s 59ms/step - loss: 0.6779 - acc: 0.5408\n",
      "Epoch 3/5\n",
      "1000/1000 [==============================] - 61s 61ms/step - loss: 0.6556 - acc: 0.6163\n",
      "Epoch 4/5\n",
      "1000/1000 [==============================] - 62s 62ms/step - loss: 0.6014 - acc: 0.7817\n",
      "Epoch 5/5\n",
      "1000/1000 [==============================] - 61s 61ms/step - loss: 0.4853 - acc: 0.8762\n",
      "Training complete: It's been  4.981606733798981 minutes\n"
     ]
    }
   ],
   "source": [
    "#Two layer\n",
    "# Figure out how to get data in CSR format into NN - may need to iteratively make the row data dense representation \n",
    "sparse_mat = scipy.sparse.csr_matrix((training_data_data, training_data_indices, training_data_indptr))\n",
    "\n",
    "#Create baseline architecture for neural network - 1 hidden layer\n",
    "network = keras.Sequential()\n",
    "network.add(keras.layers.Dense(100,input_shape=(weight_length,),activation='relu'))\n",
    "network.add(keras.layers.Dense(100,input_shape=(100,),activation='relu'))\n",
    "network.add(keras.layers.Dense(1,input_shape=(100,),activation='sigmoid'))\n",
    "\n",
    "#implement binary cross entropy loss for NN classification problem - but need to change labels from {-1,1} to {0,1}\n",
    "nn_labels_list = [x if int(x) > 0 else 0 for x in label_vect_list]\n",
    "nn_labels = np.array(nn_labels_list)\n",
    "nn_training_data_labels = nn_labels[0:training_len-1]\n",
    "nn_test_data_labels = nn_labels[training_len:article_num]\n",
    "\n",
    "start_time = time.time()\n",
    "#network.compile(loss='mse', optimizer=tf.train.GradientDescentOptimizer(0.01), metrics=['accuracy'])\n",
    "network.compile(loss='binary_crossentropy', optimizer=tf.train.GradientDescentOptimizer(0.01), metrics=['accuracy'])\n",
    "#network.fit(sparse_mat,nn_training_data_labels , epochs=5, batch_size=100)\n",
    "network.fit_generator(generator=batch_generator(sparse_mat, nn_training_data_labels, 100),epochs=5,steps_per_epoch=1000)\n",
    "print(\"Training complete: It's been \",((time.time()-start_time)/60),\"minutes\")  "
   ]
  },
  {
   "cell_type": "markdown",
   "metadata": {},
   "source": [
    "### Three Layers "
   ]
  },
  {
   "cell_type": "code",
   "execution_count": 456,
   "metadata": {},
   "outputs": [
    {
     "name": "stdout",
     "output_type": "stream",
     "text": [
      "Epoch 1/5\n",
      "1000/1000 [==============================] - 58s 58ms/step - loss: 0.6881 - acc: 0.5374\n",
      "Epoch 2/5\n",
      "1000/1000 [==============================] - 60s 60ms/step - loss: 0.6732 - acc: 0.5498\n",
      "Epoch 3/5\n",
      "1000/1000 [==============================] - 64s 64ms/step - loss: 0.6173 - acc: 0.7212\n",
      "Epoch 4/5\n",
      "1000/1000 [==============================] - 64s 64ms/step - loss: 0.4209 - acc: 0.8836\n",
      "Epoch 5/5\n",
      "1000/1000 [==============================] - 67s 67ms/step - loss: 0.2414 - acc: 0.9194\n",
      "Training complete: It's been  5.221806951363882 minutes\n"
     ]
    }
   ],
   "source": [
    "#Three layer\n",
    "# Figure out how to get data in CSR format into NN - may need to iteratively make the row data dense representation \n",
    "sparse_mat = scipy.sparse.csr_matrix((training_data_data, training_data_indices, training_data_indptr))\n",
    "\n",
    "#Create baseline architecture for neural network - 1 hidden layer\n",
    "network = keras.Sequential()\n",
    "network.add(keras.layers.Dense(100,input_shape=(weight_length,),activation='relu'))\n",
    "network.add(keras.layers.Dense(100,input_shape=(100,),activation='relu'))\n",
    "network.add(keras.layers.Dense(100,input_shape=(100,),activation='relu'))\n",
    "network.add(keras.layers.Dense(1,input_shape=(100,),activation='sigmoid'))\n",
    "\n",
    "#implement binary cross entropy loss for NN classification problem - but need to change labels from {-1,1} to {0,1}\n",
    "nn_labels_list = [x if int(x) > 0 else 0 for x in label_vect_list]\n",
    "nn_labels = np.array(nn_labels_list)\n",
    "nn_training_data_labels = nn_labels[0:training_len-1]\n",
    "nn_test_data_labels = nn_labels[training_len:article_num]\n",
    "\n",
    "start_time = time.time()\n",
    "#network.compile(loss='mse', optimizer=tf.train.GradientDescentOptimizer(0.01), metrics=['accuracy'])\n",
    "network.compile(loss='binary_crossentropy', optimizer=tf.train.GradientDescentOptimizer(0.01), metrics=['accuracy'])\n",
    "#network.fit(sparse_mat,nn_training_data_labels , epochs=5, batch_size=100)\n",
    "network.fit_generator(generator=batch_generator(sparse_mat, nn_training_data_labels, 100),epochs=5,steps_per_epoch=1000)\n",
    "print(\"Training complete: It's been \",((time.time()-start_time)/60),\"minutes\")  "
   ]
  },
  {
   "cell_type": "markdown",
   "metadata": {},
   "source": [
    "### Plot "
   ]
  },
  {
   "cell_type": "code",
   "execution_count": 22,
   "metadata": {},
   "outputs": [
    {
     "data": {
      "text/plain": [
       "Text(0,0.5,'Training Error')"
      ]
     },
     "execution_count": 22,
     "metadata": {},
     "output_type": "execute_result"
    },
    {
     "data": {
      "image/png": "[encoded data removed]",
      "text/plain": [
       "<Figure size 432x288 with 1 Axes>"
      ]
     },
     "metadata": {},
     "output_type": "display_data"
    }
   ],
   "source": [
    "training_errors = [1-0.8102,1-0.8762,1-0.9194]\n",
    "layers = [1,2,3]\n",
    "\n",
    "plt.plot(layers,training_errors)\n",
    "plt.xlabel(\"Layers\")\n",
    "plt.ylabel(\"Training Error\")"
   ]
  },
  {
   "cell_type": "markdown",
   "metadata": {},
   "source": [
    "## Prob 4b "
   ]
  },
  {
   "cell_type": "code",
   "execution_count": 458,
   "metadata": {},
   "outputs": [
    {
     "name": "stdout",
     "output_type": "stream",
     "text": [
      "Epoch 1/5\n",
      "1000/1000 [==============================] - 86s 86ms/step - loss: 0.6827 - acc: 0.5518\n",
      "Epoch 2/5\n",
      "1000/1000 [==============================] - 85s 85ms/step - loss: 0.4375 - acc: 0.8108\n",
      "Epoch 3/5\n",
      "1000/1000 [==============================] - 77s 77ms/step - loss: 0.2102 - acc: 0.9205\n",
      "Epoch 4/5\n",
      "1000/1000 [==============================] - 80s 80ms/step - loss: 0.1732 - acc: 0.9357\n",
      "Epoch 5/5\n",
      "1000/1000 [==============================] - 86s 86ms/step - loss: 0.1570 - acc: 0.9422\n",
      "Training complete: It's been  6.902369197209676 minutes\n"
     ]
    }
   ],
   "source": [
    "#Six layers - all tanh - 100 units\n",
    "# Figure out how to get data in CSR format into NN - may need to iteratively make the row data dense representation \n",
    "sparse_mat = scipy.sparse.csr_matrix((training_data_data, training_data_indices, training_data_indptr))\n",
    "\n",
    "#Create baseline architecture for neural network - 1 hidden layer\n",
    "network = keras.Sequential()\n",
    "network.add(keras.layers.Dense(100,input_shape=(weight_length,),activation='tanh'))\n",
    "network.add(keras.layers.Dense(100,input_shape=(100,),activation='tanh'))\n",
    "network.add(keras.layers.Dense(100,input_shape=(100,),activation='tanh'))\n",
    "network.add(keras.layers.Dense(100,input_shape=(100,),activation='tanh'))\n",
    "network.add(keras.layers.Dense(100,input_shape=(100,),activation='tanh'))\n",
    "network.add(keras.layers.Dense(100,input_shape=(100,),activation='tanh'))\n",
    "network.add(keras.layers.Dense(1,input_shape=(100,),activation='sigmoid'))\n",
    "\n",
    "#implement binary cross entropy loss for NN classification problem - but need to change labels from {-1,1} to {0,1}\n",
    "nn_labels_list = [x if int(x) > 0 else 0 for x in label_vect_list]\n",
    "nn_labels = np.array(nn_labels_list)\n",
    "nn_training_data_labels = nn_labels[0:training_len-1]\n",
    "nn_test_data_labels = nn_labels[training_len:article_num]\n",
    "\n",
    "start_time = time.time()\n",
    "network.compile(loss='binary_crossentropy', optimizer=tf.train.GradientDescentOptimizer(0.01), metrics=['accuracy'])\n",
    "network.fit_generator(generator=batch_generator(sparse_mat, nn_training_data_labels, 100),epochs=5,steps_per_epoch=1000)\n",
    "print(\"Training complete: It's been \",((time.time()-start_time)/60),\"minutes\") "
   ]
  },
  {
   "cell_type": "code",
   "execution_count": 466,
   "metadata": {},
   "outputs": [
    {
     "name": "stdout",
     "output_type": "stream",
     "text": [
      "Epoch 1/5\n",
      "1000/1000 [==============================] - 80s 80ms/step - loss: 0.6904 - acc: 0.5362\n",
      "Epoch 2/5\n",
      "1000/1000 [==============================] - 79s 79ms/step - loss: 0.6795 - acc: 0.5438\n",
      "Epoch 3/5\n",
      "1000/1000 [==============================] - 78s 78ms/step - loss: 0.5213 - acc: 0.7954\n",
      "Epoch 4/5\n",
      "1000/1000 [==============================] - 80s 80ms/step - loss: 0.2348 - acc: 0.9111\n",
      "Epoch 5/5\n",
      "1000/1000 [==============================] - 83s 83ms/step - loss: 0.1834 - acc: 0.9326\n",
      "Training complete: It's been  6.669677297274272 minutes\n"
     ]
    }
   ],
   "source": [
    "#Six layers - all relu - 100units\n",
    "# Figure out how to get data in CSR format into NN - may need to iteratively make the row data dense representation \n",
    "sparse_mat = scipy.sparse.csr_matrix((training_data_data, training_data_indices, training_data_indptr))\n",
    "\n",
    "#Create baseline architecture for neural network - 1 hidden layer\n",
    "network = keras.Sequential()\n",
    "network.add(keras.layers.Dense(100,input_shape=(weight_length,),activation='relu'))\n",
    "network.add(keras.layers.Dense(100,input_shape=(100,),activation='relu'))\n",
    "network.add(keras.layers.Dense(100,input_shape=(100,),activation='relu'))\n",
    "network.add(keras.layers.Dense(100,input_shape=(100,),activation='relu'))\n",
    "network.add(keras.layers.Dense(100,input_shape=(100,),activation='relu'))\n",
    "network.add(keras.layers.Dense(100,input_shape=(100,),activation='relu'))\n",
    "network.add(keras.layers.Dense(1,input_shape=(100,),activation='sigmoid'))\n",
    "\n",
    "#implement binary cross entropy loss for NN classification problem - but need to change labels from {-1,1} to {0,1}\n",
    "nn_labels_list = [x if int(x) > 0 else 0 for x in label_vect_list]\n",
    "nn_labels = np.array(nn_labels_list)\n",
    "nn_training_data_labels = nn_labels[0:training_len-1]\n",
    "nn_test_data_labels = nn_labels[training_len:article_num]\n",
    "\n",
    "start_time = time.time()\n",
    "#network.compile(loss='mse', optimizer=tf.train.GradientDescentOptimizer(0.01), metrics=['accuracy'])\n",
    "network.compile(loss='binary_crossentropy', optimizer=tf.train.GradientDescentOptimizer(0.01), metrics=['accuracy'])\n",
    "#network.fit(sparse_mat,nn_training_data_labels , epochs=5, batch_size=100)\n",
    "network.fit_generator(generator=batch_generator(sparse_mat, nn_training_data_labels, 100),epochs=5,steps_per_epoch=1000)\n",
    "print(\"Training complete: It's been \",((time.time()-start_time)/60),\"minutes\") "
   ]
  },
  {
   "cell_type": "code",
   "execution_count": 459,
   "metadata": {},
   "outputs": [
    {
     "name": "stdout",
     "output_type": "stream",
     "text": [
      "Epoch 1/5\n",
      "1000/1000 [==============================] - 85s 85ms/step - loss: 0.6760 - acc: 0.5828\n",
      "Epoch 2/5\n",
      "1000/1000 [==============================] - 80s 80ms/step - loss: 0.3864 - acc: 0.8567\n",
      "Epoch 3/5\n",
      "1000/1000 [==============================] - 77s 77ms/step - loss: 0.2074 - acc: 0.9222\n",
      "Epoch 4/5\n",
      "1000/1000 [==============================] - 81s 81ms/step - loss: 0.1730 - acc: 0.9368\n",
      "Epoch 5/5\n",
      "1000/1000 [==============================] - 76s 76ms/step - loss: 0.1573 - acc: 0.9432\n",
      "Training complete: It's been  6.647776341438293 minutes\n"
     ]
    }
   ],
   "source": [
    "#Six layers - alternate tanh relu - 100 units\n",
    "# Figure out how to get data in CSR format into NN - may need to iteratively make the row data dense representation \n",
    "sparse_mat = scipy.sparse.csr_matrix((training_data_data, training_data_indices, training_data_indptr))\n",
    "\n",
    "#Create baseline architecture for neural network - 1 hidden layer\n",
    "network = keras.Sequential()\n",
    "network.add(keras.layers.Dense(100,input_shape=(weight_length,),activation='tanh'))\n",
    "network.add(keras.layers.Dense(100,input_shape=(100,),activation='relu'))\n",
    "network.add(keras.layers.Dense(100,input_shape=(100,),activation='tanh'))\n",
    "network.add(keras.layers.Dense(100,input_shape=(100,),activation='relu'))\n",
    "network.add(keras.layers.Dense(100,input_shape=(100,),activation='tanh'))\n",
    "network.add(keras.layers.Dense(100,input_shape=(100,),activation='relu'))\n",
    "network.add(keras.layers.Dense(1,input_shape=(100,),activation='sigmoid'))\n",
    "\n",
    "#implement binary cross entropy loss for NN classification problem - but need to change labels from {-1,1} to {0,1}\n",
    "nn_labels_list = [x if int(x) > 0 else 0 for x in label_vect_list]\n",
    "nn_labels = np.array(nn_labels_list)\n",
    "nn_training_data_labels = nn_labels[0:training_len-1]\n",
    "nn_test_data_labels = nn_labels[training_len:article_num]\n",
    "\n",
    "start_time = time.time()\n",
    "#network.compile(loss='mse', optimizer=tf.train.GradientDescentOptimizer(0.01), metrics=['accuracy'])\n",
    "network.compile(loss='binary_crossentropy', optimizer=tf.train.GradientDescentOptimizer(0.01), metrics=['accuracy'])\n",
    "#network.fit(sparse_mat,nn_training_data_labels , epochs=5, batch_size=100)\n",
    "network.fit_generator(generator=batch_generator(sparse_mat, nn_training_data_labels, 100),epochs=5,steps_per_epoch=1000)\n",
    "print(\"Training complete: It's been \",((time.time()-start_time)/60),\"minutes\") "
   ]
  },
  {
   "cell_type": "code",
   "execution_count": 467,
   "metadata": {},
   "outputs": [
    {
     "name": "stdout",
     "output_type": "stream",
     "text": [
      "Epoch 1/5\n",
      "1000/1000 [==============================] - 86s 86ms/step - loss: 0.6854 - acc: 0.5414\n",
      "Epoch 2/5\n",
      "1000/1000 [==============================] - 79s 79ms/step - loss: 0.5198 - acc: 0.7788\n",
      "Epoch 3/5\n",
      "1000/1000 [==============================] - 79s 79ms/step - loss: 0.2271 - acc: 0.9133\n",
      "Epoch 4/5\n",
      "1000/1000 [==============================] - 80s 80ms/step - loss: 0.1795 - acc: 0.9344\n",
      "Epoch 5/5\n",
      "1000/1000 [==============================] - 84s 84ms/step - loss: 0.1610 - acc: 0.9419\n",
      "Training complete: It's been  6.783951278527578 minutes\n"
     ]
    }
   ],
   "source": [
    "#Six layers - alternate tanh relu - 200 units\n",
    "# Figure out how to get data in CSR format into NN - may need to iteratively make the row data dense representation \n",
    "sparse_mat = scipy.sparse.csr_matrix((training_data_data, training_data_indices, training_data_indptr))\n",
    "\n",
    "#Create baseline architecture for neural network - 1 hidden layer\n",
    "network = keras.Sequential()\n",
    "network.add(keras.layers.Dense(200,input_shape=(weight_length,),activation='tanh'))\n",
    "network.add(keras.layers.Dense(200,input_shape=(200,),activation='relu'))\n",
    "network.add(keras.layers.Dense(200,input_shape=(200,),activation='tanh'))\n",
    "network.add(keras.layers.Dense(200,input_shape=(200,),activation='relu'))\n",
    "network.add(keras.layers.Dense(200,input_shape=(200,),activation='tanh'))\n",
    "network.add(keras.layers.Dense(200,input_shape=(200,),activation='relu'))\n",
    "network.add(keras.layers.Dense(1,input_shape=(200,),activation='sigmoid'))\n",
    "\n",
    "#implement binary cross entropy loss for NN classification problem - but need to change labels from {-1,1} to {0,1}\n",
    "nn_labels_list = [x if int(x) > 0 else 0 for x in label_vect_list]\n",
    "nn_labels = np.array(nn_labels_list)\n",
    "nn_training_data_labels = nn_labels[0:training_len-1]\n",
    "nn_test_data_labels = nn_labels[training_len:article_num]\n",
    "\n",
    "start_time = time.time()\n",
    "#network.compile(loss='mse', optimizer=tf.train.GradientDescentOptimizer(0.01), metrics=['accuracy'])\n",
    "network.compile(loss='binary_crossentropy', optimizer=tf.train.GradientDescentOptimizer(0.01), metrics=['accuracy'])\n",
    "#network.fit(sparse_mat,nn_training_data_labels , epochs=5, batch_size=100)\n",
    "network.fit_generator(generator=batch_generator(sparse_mat, nn_training_data_labels, 100),epochs=5,steps_per_epoch=1000)\n",
    "print(\"Training complete: It's been \",((time.time()-start_time)/60),\"minutes\") "
   ]
  },
  {
   "cell_type": "code",
   "execution_count": 462,
   "metadata": {},
   "outputs": [
    {
     "name": "stdout",
     "output_type": "stream",
     "text": [
      "Epoch 1/5\n",
      "1000/1000 [==============================] - 92s 92ms/step - loss: 0.6898 - acc: 0.5363\n",
      "Epoch 2/5\n",
      "1000/1000 [==============================] - 112s 112ms/step - loss: 0.6712 - acc: 0.5804\n",
      "Epoch 3/5\n",
      "1000/1000 [==============================] - 105s 105ms/step - loss: 0.4225 - acc: 0.8566\n",
      "Epoch 4/5\n",
      "1000/1000 [==============================] - 108s 108ms/step - loss: 0.2154 - acc: 0.9193\n",
      "Epoch 5/5\n",
      "1000/1000 [==============================] - 111s 111ms/step - loss: 0.1765 - acc: 0.9356\n",
      "Training complete: It's been  8.783600572745005 minutes\n"
     ]
    }
   ],
   "source": [
    "#Six layers - all relu - 200 units per layer\n",
    "# Figure out how to get data in CSR format into NN - may need to iteratively make the row data dense representation \n",
    "sparse_mat = scipy.sparse.csr_matrix((training_data_data, training_data_indices, training_data_indptr))\n",
    "\n",
    "#Create baseline architecture for neural network - 1 hidden layer\n",
    "network = keras.Sequential()\n",
    "network.add(keras.layers.Dense(200,input_shape=(weight_length,),activation='relu'))\n",
    "network.add(keras.layers.Dense(200,input_shape=(200,),activation='relu'))\n",
    "network.add(keras.layers.Dense(200,input_shape=(200,),activation='relu'))\n",
    "network.add(keras.layers.Dense(200,input_shape=(200,),activation='relu'))\n",
    "network.add(keras.layers.Dense(200,input_shape=(200,),activation='relu'))\n",
    "network.add(keras.layers.Dense(200,input_shape=(200,),activation='relu'))\n",
    "network.add(keras.layers.Dense(1,input_shape=(200,),activation='sigmoid'))\n",
    "\n",
    "#implement binary cross entropy loss for NN classification problem - but need to change labels from {-1,1} to {0,1}\n",
    "nn_labels_list = [x if int(x) > 0 else 0 for x in label_vect_list]\n",
    "nn_labels = np.array(nn_labels_list)\n",
    "nn_training_data_labels = nn_labels[0:training_len-1]\n",
    "nn_test_data_labels = nn_labels[training_len:article_num]\n",
    "\n",
    "start_time = time.time()\n",
    "#network.compile(loss='mse', optimizer=tf.train.GradientDescentOptimizer(0.01), metrics=['accuracy'])\n",
    "network.compile(loss='binary_crossentropy', optimizer=tf.train.GradientDescentOptimizer(0.01), metrics=['accuracy'])\n",
    "#network.fit(sparse_mat,nn_training_data_labels , epochs=5, batch_size=100)\n",
    "network.fit_generator(generator=batch_generator(sparse_mat, nn_training_data_labels, 100),epochs=5,steps_per_epoch=1000)\n",
    "print(\"Training complete: It's been \",((time.time()-start_time)/60),\"minutes\") "
   ]
  },
  {
   "cell_type": "code",
   "execution_count": 464,
   "metadata": {},
   "outputs": [
    {
     "name": "stdout",
     "output_type": "stream",
     "text": [
      "Epoch 1/5\n",
      "1000/1000 [==============================] - 108s 108ms/step - loss: 0.6815 - acc: 0.5582\n",
      "Epoch 2/5\n",
      "1000/1000 [==============================] - 107s 107ms/step - loss: 0.4155 - acc: 0.8235\n",
      "Epoch 3/5\n",
      "1000/1000 [==============================] - 107s 107ms/step - loss: 0.2082 - acc: 0.9214\n",
      "Epoch 4/5\n",
      "1000/1000 [==============================] - 107s 107ms/step - loss: 0.1723 - acc: 0.9361\n",
      "Epoch 5/5\n",
      "1000/1000 [==============================] - 107s 107ms/step - loss: 0.1566 - acc: 0.9423\n",
      "Training complete: It's been  8.942666391531626 minutes\n"
     ]
    }
   ],
   "source": [
    "#Six layers - all tanh - 200 units per layer\n",
    "# Figure out how to get data in CSR format into NN - may need to iteratively make the row data dense representation \n",
    "sparse_mat = scipy.sparse.csr_matrix((training_data_data, training_data_indices, training_data_indptr))\n",
    "\n",
    "#Create baseline architecture for neural network - 1 hidden layer\n",
    "network = keras.Sequential()\n",
    "network.add(keras.layers.Dense(200,input_shape=(weight_length,),activation='tanh'))\n",
    "network.add(keras.layers.Dense(200,input_shape=(200,),activation='tanh'))\n",
    "network.add(keras.layers.Dense(200,input_shape=(200,),activation='tanh'))\n",
    "network.add(keras.layers.Dense(200,input_shape=(200,),activation='tanh'))\n",
    "network.add(keras.layers.Dense(200,input_shape=(200,),activation='tanh'))\n",
    "network.add(keras.layers.Dense(200,input_shape=(200,),activation='tanh'))\n",
    "network.add(keras.layers.Dense(1,input_shape=(200,),activation='sigmoid'))\n",
    "\n",
    "#implement binary cross entropy loss for NN classification problem - but need to change labels from {-1,1} to {0,1}\n",
    "nn_labels_list = [x if int(x) > 0 else 0 for x in label_vect_list]\n",
    "nn_labels = np.array(nn_labels_list)\n",
    "nn_training_data_labels = nn_labels[0:training_len-1]\n",
    "nn_test_data_labels = nn_labels[training_len:article_num]\n",
    "\n",
    "start_time = time.time()\n",
    "#network.compile(loss='mse', optimizer=tf.train.GradientDescentOptimizer(0.01), metrics=['accuracy'])\n",
    "network.compile(loss='binary_crossentropy', optimizer=tf.train.GradientDescentOptimizer(0.01), metrics=['accuracy'])\n",
    "#network.fit(sparse_mat,nn_training_data_labels , epochs=5, batch_size=100)\n",
    "network.fit_generator(generator=batch_generator(sparse_mat, nn_training_data_labels, 100),epochs=5,steps_per_epoch=1000)\n",
    "print(\"Training complete: It's been \",((time.time()-start_time)/60),\"minutes\") "
   ]
  },
  {
   "cell_type": "code",
   "execution_count": 465,
   "metadata": {},
   "outputs": [
    {
     "name": "stdout",
     "output_type": "stream",
     "text": [
      "Epoch 1/5\n",
      "1000/1000 [==============================] - 82s 82ms/step - loss: 0.2486 - acc: 0.5375\n",
      "Epoch 2/5\n",
      "1000/1000 [==============================] - 78s 78ms/step - loss: 0.2468 - acc: 0.5391\n",
      "Epoch 3/5\n",
      "1000/1000 [==============================] - 81s 81ms/step - loss: 0.2435 - acc: 0.5391\n",
      "Epoch 4/5\n",
      "1000/1000 [==============================] - 83s 83ms/step - loss: 0.2378 - acc: 0.5555\n",
      "Epoch 5/5\n",
      "1000/1000 [==============================] - 82s 82ms/step - loss: 0.2266 - acc: 0.6615\n",
      "Training complete: It's been  6.787567714850108 minutes\n"
     ]
    }
   ],
   "source": [
    "#three layers - all relu - mse error\n",
    "# Figure out how to get data in CSR format into NN - may need to iteratively make the row data dense representation \n",
    "sparse_mat = scipy.sparse.csr_matrix((training_data_data, training_data_indices, training_data_indptr))\n",
    "\n",
    "#Create baseline architecture for neural network - 1 hidden layer\n",
    "network = keras.Sequential()\n",
    "network.add(keras.layers.Dense(100,input_shape=(weight_length,),activation='relu'))\n",
    "network.add(keras.layers.Dense(100,input_shape=(100,),activation='relu'))\n",
    "network.add(keras.layers.Dense(100,input_shape=(100,),activation='relu'))\n",
    "network.add(keras.layers.Dense(1,input_shape=(100,),activation='sigmoid'))\n",
    "\n",
    "#implement binary cross entropy loss for NN classification problem - but need to change labels from {-1,1} to {0,1}\n",
    "nn_labels_list = [x if int(x) > 0 else 0 for x in label_vect_list]\n",
    "nn_labels = np.array(nn_labels_list)\n",
    "nn_training_data_labels = nn_labels[0:training_len-1]\n",
    "nn_test_data_labels = nn_labels[training_len:article_num]\n",
    "\n",
    "start_time = time.time()\n",
    "network.compile(loss='mse', optimizer=tf.train.GradientDescentOptimizer(0.01), metrics=['accuracy'])\n",
    "#network.compile(loss='binary_crossentropy', optimizer=tf.train.GradientDescentOptimizer(0.01), metrics=['accuracy'])\n",
    "#network.fit(sparse_mat,nn_training_data_labels , epochs=5, batch_size=100)\n",
    "network.fit_generator(generator=batch_generator(sparse_mat, nn_training_data_labels, 100),epochs=5,steps_per_epoch=1000)\n",
    "print(\"Training complete: It's been \",((time.time()-start_time)/60),\"minutes\") "
   ]
  },
  {
   "cell_type": "code",
   "execution_count": 469,
   "metadata": {},
   "outputs": [
    {
     "name": "stdout",
     "output_type": "stream",
     "text": [
      "Epoch 1/5\n",
      "1000/1000 [==============================] - 108s 108ms/step - loss: 0.6901 - acc: 0.5362\n",
      "Epoch 2/5\n",
      "1000/1000 [==============================] - 110s 110ms/step - loss: 0.6773 - acc: 0.5542\n",
      "Epoch 3/5\n",
      "1000/1000 [==============================] - 109s 109ms/step - loss: 0.4762 - acc: 0.8261\n",
      "Epoch 4/5\n",
      "1000/1000 [==============================] - 110s 110ms/step - loss: 0.2258 - acc: 0.9143\n",
      "Epoch 5/5\n",
      "1000/1000 [==============================] - 110s 110ms/step - loss: 0.1797 - acc: 0.9345\n",
      "Training complete: It's been  9.101565364996592 minutes\n"
     ]
    }
   ],
   "source": [
    "#Six layers - all relu - 300 units per layer\n",
    "# Figure out how to get data in CSR format into NN - may need to iteratively make the row data dense representation \n",
    "sparse_mat = scipy.sparse.csr_matrix((training_data_data, training_data_indices, training_data_indptr))\n",
    "\n",
    "#Create baseline architecture for neural network - 1 hidden layer\n",
    "network = keras.Sequential()\n",
    "network.add(keras.layers.Dense(300,input_shape=(weight_length,),activation='relu'))\n",
    "network.add(keras.layers.Dense(300,input_shape=(300,),activation='relu'))\n",
    "network.add(keras.layers.Dense(300,input_shape=(300,),activation='relu'))\n",
    "network.add(keras.layers.Dense(300,input_shape=(300,),activation='relu'))\n",
    "network.add(keras.layers.Dense(300,input_shape=(300,),activation='relu'))\n",
    "network.add(keras.layers.Dense(300,input_shape=(300,),activation='relu'))\n",
    "network.add(keras.layers.Dense(1,input_shape=(300,),activation='sigmoid'))\n",
    "\n",
    "#implement binary cross entropy loss for NN classification problem - but need to change labels from {-1,1} to {0,1}\n",
    "nn_labels_list = [x if int(x) > 0 else 0 for x in label_vect_list]\n",
    "nn_labels = np.array(nn_labels_list)\n",
    "nn_training_data_labels = nn_labels[0:training_len-1]\n",
    "nn_test_data_labels = nn_labels[training_len:article_num]\n",
    "\n",
    "start_time = time.time()\n",
    "#network.compile(loss='mse', optimizer=tf.train.GradientDescentOptimizer(0.01), metrics=['accuracy'])\n",
    "network.compile(loss='binary_crossentropy', optimizer=tf.train.GradientDescentOptimizer(0.01), metrics=['accuracy'])\n",
    "#network.fit(sparse_mat,nn_training_data_labels , epochs=5, batch_size=100)\n",
    "network.fit_generator(generator=batch_generator(sparse_mat, nn_training_data_labels, 100),epochs=5,steps_per_epoch=1000)\n",
    "print(\"Training complete: It's been \",((time.time()-start_time)/60),\"minutes\") "
   ]
  },
  {
   "cell_type": "code",
   "execution_count": 470,
   "metadata": {},
   "outputs": [
    {
     "name": "stdout",
     "output_type": "stream",
     "text": [
      "Epoch 1/5\n",
      "1000/1000 [==============================] - 84s 84ms/step - loss: 0.6911 - acc: 0.5297\n",
      "Epoch 2/5\n",
      "1000/1000 [==============================] - 79s 79ms/step - loss: 0.6911 - acc: 0.5292\n",
      "Epoch 3/5\n",
      "1000/1000 [==============================] - 81s 81ms/step - loss: 0.6911 - acc: 0.5303\n",
      "Epoch 4/5\n",
      "1000/1000 [==============================] - 80s 80ms/step - loss: 0.6911 - acc: 0.5303\n",
      "Epoch 5/5\n",
      "1000/1000 [==============================] - 80s 80ms/step - loss: 0.6911 - acc: 0.5303\n",
      "Training complete: It's been  6.732307982444763 minutes\n"
     ]
    }
   ],
   "source": [
    "#Six layers - all sigmoid - 100 units\n",
    "# Figure out how to get data in CSR format into NN - may need to iteratively make the row data dense representation \n",
    "sparse_mat = scipy.sparse.csr_matrix((training_data_data, training_data_indices, training_data_indptr))\n",
    "\n",
    "#Create baseline architecture for neural network - 1 hidden layer\n",
    "network = keras.Sequential()\n",
    "network.add(keras.layers.Dense(100,input_shape=(weight_length,),activation='sigmoid'))\n",
    "network.add(keras.layers.Dense(100,input_shape=(100,),activation='sigmoid'))\n",
    "network.add(keras.layers.Dense(100,input_shape=(100,),activation='sigmoid'))\n",
    "network.add(keras.layers.Dense(100,input_shape=(100,),activation='sigmoid'))\n",
    "network.add(keras.layers.Dense(100,input_shape=(100,),activation='sigmoid'))\n",
    "network.add(keras.layers.Dense(100,input_shape=(100,),activation='sigmoid'))\n",
    "network.add(keras.layers.Dense(1,input_shape=(100,),activation='sigmoid'))\n",
    "\n",
    "#implement binary cross entropy loss for NN classification problem - but need to change labels from {-1,1} to {0,1}\n",
    "nn_labels_list = [x if int(x) > 0 else 0 for x in label_vect_list]\n",
    "nn_labels = np.array(nn_labels_list)\n",
    "nn_training_data_labels = nn_labels[0:training_len-1]\n",
    "nn_test_data_labels = nn_labels[training_len:article_num]\n",
    "\n",
    "start_time = time.time()\n",
    "#network.compile(loss='mse', optimizer=tf.train.GradientDescentOptimizer(0.01), metrics=['accuracy'])\n",
    "network.compile(loss='binary_crossentropy', optimizer=tf.train.GradientDescentOptimizer(0.01), metrics=['accuracy'])\n",
    "#network.fit(sparse_mat,nn_training_data_labels , epochs=5, batch_size=100)\n",
    "network.fit_generator(generator=batch_generator(sparse_mat, nn_training_data_labels, 100),epochs=5,steps_per_epoch=1000)\n",
    "print(\"Training complete: It's been \",((time.time()-start_time)/60),\"minutes\") "
   ]
  },
  {
   "cell_type": "markdown",
   "metadata": {},
   "source": [
    "# Problem 5"
   ]
  },
  {
   "cell_type": "markdown",
   "metadata": {},
   "source": [
    "## Best PEGASOS Test"
   ]
  },
  {
   "cell_type": "code",
   "execution_count": 40,
   "metadata": {},
   "outputs": [
    {
     "name": "stdout",
     "output_type": "stream",
     "text": [
      "PEGASOS Started\n",
      "PEGASOS Test complete. Test error:  0.5689699963799749  It's been  1.6358597834904989 minutes\n"
     ]
    }
   ],
   "source": [
    "#PEGASOS Parameters - Regularization (lambda), iterations (T), min-batch size(batch_size)\n",
    "\n",
    "print(\"PEGASOS Started\")\n",
    "start_time = time.time()\n",
    "T = 4000 #Choose iterations that gives best tradeoff between runtime, overfitting to training data, etc.\n",
    "weight_length = max(rcv1.data.indices)+1\n",
    "\n",
    "#Set parameters to optimum value\n",
    "pegasos_lambda = 10**(-5)\n",
    "min_batch_percent = 0.01\n",
    "\n",
    "#calculate the lengths of the articles rows.\n",
    "training_data_row_length = np.diff(training_data_indptr)\n",
    "test_data_row_length = np.diff(test_data_indptr)\n",
    "#append the length of the last article\n",
    "training_data_row_length = np.append(training_data_row_length,len(training_data_indices)-training_data_indptr[len(training_data_indptr)-1])\n",
    "test_data_row_length = np.append(test_data_row_length,len(test_data_indices)-test_data_indptr[len(test_data_indptr)-1])\n",
    "\n",
    "\n",
    "#Choose random subset of training , initialize weight to zero\n",
    "subset_length = int(min_batch_percent*training_len)\n",
    "\n",
    "\n",
    "iteration_index = 0\n",
    "w = np.zeros(weight_length)\n",
    "for i in range(T):\n",
    "    #adjust from i = 0:T-1 to i=1:T\n",
    "    i += 1\n",
    "    #choose random subset of artciles to use as min batch\n",
    "    A_t = np.random.choice(training_len-1,subset_length)\n",
    "    \n",
    "    #initialize variable for sum of rows in A_t_dag\n",
    "    grad_sum = np.zeros(weight_length)\n",
    "    for index in A_t:\n",
    "        row_data = training_data_data[training_data_indptr[index]:training_data_indptr[index]+training_data_row_length[index]]\n",
    "        row_data_indices = training_data_indices[training_data_indptr[index]:training_data_indptr[index]+training_data_row_length[index]]\n",
    "            \n",
    "        #only dealing with weights corresponding to indices that are in this row. Update happens on these indices, then are\n",
    "        # placed back into the overall w\n",
    "        w_row = w[row_data_indices]\n",
    "            \n",
    "            \n",
    "        if training_data_labels[index]*np.inner(w_row,row_data) < 1:\n",
    "            grad_sum[row_data_indices] += training_data_labels[index]*row_data\n",
    "        \n",
    "    grad = pegasos_lambda*w - (1/subset_length)*grad_sum\n",
    "    eta = 1/(i*pegasos_lambda)\n",
    "    w_t_prime = w - eta*grad\n",
    "    w = min(1,((1/np.sqrt(pegasos_lambda))/np.sqrt(np.inner(w_t_prime,w_t_prime))))*w_t_prime\n",
    "        \n",
    "        \n",
    "\n",
    "\n",
    "#test error\n",
    "errors = 0\n",
    "for i in range(test_data_len):\n",
    "    row_data = test_data_data[test_data_indptr[i]:test_data_indptr[i]+test_data_row_length[i]]\n",
    "    row_data_indices = test_data_indices[test_data_indptr[i]:test_data_indptr[i]+test_data_row_length[i]]\n",
    "            \n",
    "    #only dealing with weights corresponding to indices that are in this row. Update happens on these indices, then are\n",
    "    # placed back into the overall w\n",
    "    w_row = w[row_data_indices]\n",
    "    \n",
    "    \n",
    "    pred = np.sign(np.inner(w_row,row_data))\n",
    "    \n",
    "    if not pred == test_data_labels[i]:\n",
    "        errors += 1\n",
    "\n",
    "test_error_pegasos = (errors/test_data_len)\n",
    "    \n",
    "print(\"PEGASOS Test complete. Test error: \",test_error_pegasos,\" It's been \",((time.time()-start_time)/60),\"minutes\") "
   ]
  },
  {
   "cell_type": "markdown",
   "metadata": {},
   "source": [
    "## Best Adagrad Test"
   ]
  },
  {
   "cell_type": "code",
   "execution_count": 57,
   "metadata": {},
   "outputs": [
    {
     "name": "stdout",
     "output_type": "stream",
     "text": [
      "Adagrad start\n",
      "Adagrad Training complete. It's been  10.940901112556457 minutes since start\n",
      "Adagrad Test complete. Test error:  0.569121895473549  It's been  11.065836588541666 minutes since start\n"
     ]
    }
   ],
   "source": [
    "#Implement Adagrad algorithm \n",
    "\n",
    "print(\"Adagrad start\")\n",
    "start_time = time.time()\n",
    "min_batch_percent = 0.01\n",
    "subset_length = int(min_batch_percent*training_len)\n",
    "T = 8000\n",
    "weight_length = max(rcv1.data.indices)+1\n",
    "\n",
    "#calculate the lengths of the articles rows.\n",
    "training_data_row_length = np.diff(training_data_indptr)\n",
    "test_data_row_length = np.diff(test_data_indptr)\n",
    "#append the length of the last article\n",
    "training_data_row_length = np.append(training_data_row_length,len(training_data_indices)-training_data_indptr[len(training_data_indptr)-1])\n",
    "test_data_row_length = np.append(test_data_row_length,len(test_data_indices)-test_data_indptr[len(test_data_indptr)-1])\n",
    "\n",
    "\n",
    "#training\n",
    "G_t = np.ones(weight_length)\n",
    "w_adagrad = np.zeros(weight_length)\n",
    "for i in range(T):\n",
    "    #adjust from i = 0:T-1 to i=1:T\n",
    "    i += 1\n",
    "        \n",
    "    #pick index at random\n",
    "    #choose random subset of artciles to use as min batch\n",
    "    A_t = np.random.choice(training_len-1,subset_length)\n",
    "        \n",
    "    for index in A_t:\n",
    "        row_data = training_data_data[training_data_indptr[index]:training_data_indptr[index]+training_data_row_length[index]]\n",
    "        row_data_indices = training_data_indices[training_data_indptr[index]:training_data_indptr[index]+training_data_row_length[index]]\n",
    "            \n",
    "        #only dealing with weights corresponding to indices that are in this row. Update happens on these indices, then are\n",
    "        # placed back into the overall w\n",
    "        w_adagrad_row = w_adagrad[row_data_indices]\n",
    "            \n",
    "        if training_data_labels[index]*np.inner(w_adagrad_row,row_data) < 1:\n",
    "            G_t_row = np.reciprocal(G_t)[row_data_indices]\n",
    "            w_adagrad_p = w_adagrad_row + (1/np.sqrt(T))*training_data_labels[index]* np.array([np.sqrt(G_t_row[r])*row_data[r] for r in range(len(row_data))])\n",
    "            w_adagrad[row_data_indices] = w_adagrad_p\n",
    "            \n",
    "            ##UPDATE G_T\n",
    "            G_t[row_data_indices] = G_t_row + np.diag(np.outer(-training_data_labels[index]*row_data,-training_data_labels[index]*row_data))\n",
    "\n",
    "            \n",
    "print(\"Adagrad Training complete. It's been \",((time.time()-start_time)/60),\"minutes since start\")\n",
    "#test error\n",
    "errors = 0\n",
    "for i in range(test_data_len):\n",
    "    row_data = test_data_data[test_data_indptr[i]:test_data_indptr[i]+test_data_row_length[i]]\n",
    "    row_data_indices = test_data_indices[test_data_indptr[i]:test_data_indptr[i]+test_data_row_length[i]]\n",
    "            \n",
    "    #only dealing with weights corresponding to indices that are in this row. Update happens on these indices, then are\n",
    "    # placed back into the overall w\n",
    "    w_adagrad_row = w_adagrad[row_data_indices]\n",
    "    \n",
    "    \n",
    "    pred = np.sign(np.inner(w_adagrad_row,row_data))\n",
    "    \n",
    "    if not pred == test_data_labels[i]:\n",
    "        errors += 1\n",
    "\n",
    "    test_error_adagrad = (errors/test_data_len)\n",
    "    \n",
    "print(\"Adagrad Test complete. Test error: \",test_error_adagrad,\" It's been \",((time.time()-start_time)/60),\"minutes since start\") "
   ]
  },
  {
   "cell_type": "code",
   "execution_count": 42,
   "metadata": {},
   "outputs": [
    {
     "name": "stdout",
     "output_type": "stream",
     "text": [
      "Adagrad start\n",
      "Adagrad Training complete. It's been  4.8646095832188925 minutes since start\n",
      "Adagrad Test complete. Test error:  0.5670890029315105  It's been  5.011616726716359 minutes since start\n"
     ]
    }
   ],
   "source": [
    "#Implement Adagrad algorithm \n",
    "\n",
    "print(\"Adagrad start\")\n",
    "start_time = time.time()\n",
    "min_batch_percent = 0.01\n",
    "subset_length = int(min_batch_percent*training_len)\n",
    "T = 8000\n",
    "weight_length = max(rcv1.data.indices)+1\n",
    "\n",
    "#calculate the lengths of the articles rows.\n",
    "training_data_row_length = np.diff(training_data_indptr)\n",
    "test_data_row_length = np.diff(test_data_indptr)\n",
    "#append the length of the last article\n",
    "training_data_row_length = np.append(training_data_row_length,len(training_data_indices)-training_data_indptr[len(training_data_indptr)-1])\n",
    "test_data_row_length = np.append(test_data_row_length,len(test_data_indices)-test_data_indptr[len(test_data_indptr)-1])\n",
    "\n",
    "\n",
    "#training\n",
    "G_t = np.ones(weight_length)\n",
    "w_adagrad = np.zeros(weight_length)\n",
    "for i in range(T):\n",
    "    #adjust from i = 0:T-1 to i=1:T\n",
    "    i += 1\n",
    "        \n",
    "    #pick index at random\n",
    "    #choose random subset of artciles to use as min batch\n",
    "    A_t = np.random.choice(training_len-1,subset_length)\n",
    "        \n",
    "    for index in A_t:\n",
    "        row_data = training_data_data[training_data_indptr[index]:training_data_indptr[index]+training_data_row_length[index]]\n",
    "        row_data_indices = training_data_indices[training_data_indptr[index]:training_data_indptr[index]+training_data_row_length[index]]\n",
    "            \n",
    "        #only dealing with weights corresponding to indices that are in this row. Update happens on these indices, then are\n",
    "        # placed back into the overall w\n",
    "        w_adagrad_row = w_adagrad[row_data_indices]\n",
    "            \n",
    "        if training_data_labels[index]*np.inner(w_adagrad_row,row_data) < 1:\n",
    "            G_t_row = np.reciprocal(G_t)[row_data_indices]\n",
    "            w_adagrad_p = w_adagrad_row + training_data_labels[index]* np.array([np.sqrt(G_t_row[r])*row_data[r] for r in range(len(row_data))])\n",
    "            w_adagrad[row_data_indices] = w_adagrad_p\n",
    "            \n",
    "            ##UPDATE G_T\n",
    "            G_t[row_data_indices] = G_t_row + np.diag(np.outer(-training_data_labels[index]*row_data,-training_data_labels[index]*row_data))\n",
    "\n",
    "            \n",
    "print(\"Adagrad Training complete. It's been \",((time.time()-start_time)/60),\"minutes since start\")\n",
    "#test error\n",
    "errors = 0\n",
    "for i in range(test_data_len):\n",
    "    row_data = test_data_data[test_data_indptr[i]:test_data_indptr[i]+test_data_row_length[i]]\n",
    "    row_data_indices = test_data_indices[test_data_indptr[i]:test_data_indptr[i]+test_data_row_length[i]]\n",
    "            \n",
    "    #only dealing with weights corresponding to indices that are in this row. Update happens on these indices, then are\n",
    "    # placed back into the overall w\n",
    "    w_adagrad_row = w_adagrad[row_data_indices]\n",
    "    \n",
    "    \n",
    "\n",
    "    pred = np.sign(np.inner(w_adagrad_row,row_data))\n",
    "    \n",
    "    if not pred == test_data_labels[i]:\n",
    "        errors += 1\n",
    "\n",
    "test_error_adagrad = (errors/test_data_len)\n",
    "    \n",
    "print(\"Adagrad Test complete. Test error: \",test_error_adagrad,\" It's been \",((time.time()-start_time)/60),\"minutes since start\") "
   ]
  },
  {
   "cell_type": "markdown",
   "metadata": {},
   "source": [
    "## NN Test "
   ]
  },
  {
   "cell_type": "code",
   "execution_count": 25,
   "metadata": {},
   "outputs": [
    {
     "name": "stdout",
     "output_type": "stream",
     "text": [
      "Epoch 1/5\n",
      "1000/1000 [==============================] - 52s 52ms/step - loss: 0.6890 - acc: 0.5366\n",
      "Epoch 2/5\n",
      "1000/1000 [==============================] - 57s 57ms/step - loss: 0.6473 - acc: 0.6560\n",
      "Epoch 3/5\n",
      "1000/1000 [==============================] - 60s 60ms/step - loss: 0.3034 - acc: 0.8915\n",
      "Epoch 4/5\n",
      "1000/1000 [==============================] - 60s 60ms/step - loss: 0.1950 - acc: 0.9275\n",
      "Epoch 5/5\n",
      "1000/1000 [==============================] - 58s 58ms/step - loss: 0.1683 - acc: 0.9391\n",
      "Training complete: It's been  4.79215921163559 minutes\n",
      "NN Test complete. Test Error is:  0.06446776729280634  It's been  3.7442187786102297 minutes\n"
     ]
    }
   ],
   "source": [
    "#Six layers - alternate tanh relu - 200 units\n",
    "# Figure out how to get data in CSR format into NN - may need to iteratively make the row data dense representation \n",
    "sparse_mat = scipy.sparse.csr_matrix((training_data_data, training_data_indices, training_data_indptr))\n",
    "sparse_mat_test = scipy.sparse.csr_matrix((test_data_data, test_data_indices, test_data_indptr - test_data_indptr[0]))\n",
    "\n",
    "#Create baseline architecture for neural network - 1 hidden layer\n",
    "network = keras.Sequential()\n",
    "network.add(keras.layers.Dense(100,input_shape=(weight_length,),activation='tanh'))\n",
    "network.add(keras.layers.Dense(100,input_shape=(100,),activation='relu'))\n",
    "network.add(keras.layers.Dense(100,input_shape=(100,),activation='tanh'))\n",
    "network.add(keras.layers.Dense(100,input_shape=(100,),activation='relu'))\n",
    "network.add(keras.layers.Dense(100,input_shape=(100,),activation='tanh'))\n",
    "network.add(keras.layers.Dense(100,input_shape=(100,),activation='relu'))\n",
    "network.add(keras.layers.Dense(1,input_shape=(100,),activation='sigmoid'))\n",
    "\n",
    "#implement binary cross entropy loss for NN classification problem - but need to change labels from {-1,1} to {0,1}\n",
    "nn_labels_list = [x if int(x) > 0 else 0 for x in label_vect_list]\n",
    "nn_labels = np.array(nn_labels_list)\n",
    "nn_training_data_labels = nn_labels[0:training_len-1]\n",
    "nn_test_data_labels = nn_labels[training_len:article_num]\n",
    "\n",
    "start_time = time.time()\n",
    "network.compile(loss='binary_crossentropy', optimizer=tf.train.GradientDescentOptimizer(0.01), metrics=['accuracy'])\n",
    "network.fit_generator(generator=batch_generator(sparse_mat, nn_training_data_labels, 100),epochs=5,steps_per_epoch=1000)\n",
    "print(\"Training complete: It's been \",((time.time()-start_time)/60),\"minutes\") \n",
    "start_time = time.time()\n",
    "(nn_test_loss,nn_test_acc) = network.evaluate_generator(generator=batch_generator(sparse_mat_test, nn_test_data_labels, 100),steps=len(nn_test_data_labels)/100)\n",
    "nn_test_error = 1-nn_test_acc\n",
    "print(\"NN Test complete. Test Error is: \",nn_test_error,\" It's been \",((time.time()-start_time)/60),\"minutes\") "
   ]
  },
  {
   "cell_type": "code",
   "execution_count": null,
   "metadata": {},
   "outputs": [],
   "source": []
  }
 ],
 "metadata": {
  "kernelspec": {
   "display_name": "tensorflow",
   "language": "python",
   "name": "tensorflow"
  },
  "language_info": {
   "codemirror_mode": {
    "name": "ipython",
    "version": 3
   },
   "file_extension": ".py",
   "mimetype": "text/x-python",
   "name": "python",
   "nbconvert_exporter": "python",
   "pygments_lexer": "ipython3",
   "version": "3.6.4"
  }
 },
 "nbformat": 4,
 "nbformat_minor": 2
}
