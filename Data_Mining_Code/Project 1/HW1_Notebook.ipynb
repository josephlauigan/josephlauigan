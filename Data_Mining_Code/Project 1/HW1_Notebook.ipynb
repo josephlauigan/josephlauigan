{
 "cells": [
  {
   "cell_type": "markdown",
   "metadata": {},
   "source": [
    "# ESE 545 Homework 1 - Joseph Lauigan"
   ]
  },
  {
   "cell_type": "code",
   "execution_count": 2,
   "metadata": {},
   "outputs": [],
   "source": [
    "import numpy as np\n",
    "import time\n",
    "from collections import Counter\n",
    "import random\n",
    "import itertools\n",
    "import math\n",
    "import matplotlib.pyplot as plt\n",
    "from itertools import chain\n",
    "import csv"
   ]
  },
  {
   "cell_type": "code",
   "execution_count": 3,
   "metadata": {},
   "outputs": [],
   "source": [
    "# Debug and timing analysis modes\n",
    "debug = True\n",
    "timing_analysis = True"
   ]
  },
  {
   "cell_type": "markdown",
   "metadata": {},
   "source": [
    "## Problem 1"
   ]
  },
  {
   "cell_type": "code",
   "execution_count": 4,
   "metadata": {},
   "outputs": [
    {
     "name": "stdout",
     "output_type": "stream",
     "text": [
      "Imported 20496505  3 star ratings out of 24053764 ratings\n",
      "Imported 4499 movies\n",
      "Removed 241513 users out of 467134\n",
      "The number of unique users is 225621\n",
      "Data matrix compiled: It's been  0.96879141330719 minutes\n"
     ]
    }
   ],
   "source": [
    "#Import and parse Netflix_data.txt into MxN matrix; M - # of movies, N - # of users\n",
    "\n",
    "# This section imports the Netflix_data.txt file and compiles a sparse, binary matrix indicating\n",
    "# if a given user(column) has rated a given movie(row) 3+ stars. Users that have rated >20 movies\n",
    "# are discarded.\n",
    "\n",
    "# row index assignments for the movies are given by index in \"movie_column\" variable. column index assignments for users\n",
    "# are given by the dictionary \"user_index\" - whose entries are in the form {'user_ID',column_index}\n",
    "# Final matrix is \"data_matrix\" 2d-numpy array\n",
    "\n",
    "raw_data = []\n",
    "data_matrix = []\n",
    "movie_column = []\n",
    "current_movie = -1\n",
    "num_movies = 0\n",
    "deleted_users = []\n",
    "\n",
    "if debug:\n",
    "    num_ratings = 0\n",
    "    num_3_ratings = 0\n",
    "\n",
    "if timing_analysis:\n",
    "    start_time = time.time()\n",
    "\n",
    "#open and import Netflix_data.txt and parse off user ratings that are less than 3 stars\n",
    "with open(\"Netflix_data.txt\") as open_data:\n",
    "    for line in open_data:\n",
    "        line1 = line.strip(\"\\n\")\n",
    "        if ':' in line1:\n",
    "            number = line1.split(':')[0]\n",
    "            raw_data.append(\"movie \"+ number)\n",
    "            movie_column.append(number)\n",
    "            num_movies += 1\n",
    "        else:\n",
    "            num_ratings += 1\n",
    "            line_data = line1.split(',')\n",
    "            if(int(line_data[1]) >= 3):\n",
    "                num_3_ratings += 1\n",
    "                raw_data.append(line_data[0])\n",
    "\n",
    "\n",
    "if debug:\n",
    "    print(\"Imported\",num_3_ratings,\" 3 star ratings out of\",num_ratings,\"ratings\")\n",
    "    print(\"Imported\",num_movies,\"movies\")\n",
    "\n",
    "#Using Counter objects, remove users with >= 20 movies rated\n",
    "user_counts = Counter(raw_data)\n",
    "user_counts_ordering = Counter(raw_data)\n",
    "user_nums_raw = len(user_counts) - num_movies\n",
    "\n",
    "for key,value in list(user_counts_ordering.items()):\n",
    "    if value > 19:\n",
    "        deleted_users.append(key)\n",
    "        del user_counts_ordering[key]\n",
    "    \n",
    "#construct base numpy array to be used as data_matrix\n",
    "unique_users = user_nums_raw - len(deleted_users)\n",
    "data_matrix = np.zeros((num_movies,unique_users))\n",
    "\n",
    "if debug:\n",
    "    print(\"Removed\",len(deleted_users),\"users out of\",user_nums_raw,)\n",
    "    print(\"The number of unique users is\",unique_users)\n",
    "\n",
    "#filter out \n",
    "user_row = list(filter(lambda x: 'movie' not in x, list(user_counts_ordering.keys()))) #filter out the movie entries in Counter key list\n",
    "\n",
    "#assign users to column in data_matrix - hold in dictionary of form {user:index}\n",
    "user_index = {}\n",
    "index = 0\n",
    "for user in user_row:\n",
    "    user_index[user] = index\n",
    "    index += 1\n",
    "\n",
    "    \n",
    "\n",
    "for line in raw_data:\n",
    "    if 'movie' in line:\n",
    "        current_movie += 1\n",
    "    else:\n",
    "        if user_counts[line] < 20:\n",
    "            data_matrix[current_movie][user_index[line]] = 1\n",
    "\n",
    "                \n",
    "if timing_analysis:\n",
    "    print(\"Data matrix compiled: It's been \",((time.time()-start_time)/60),\"minutes\")  \n",
    "del raw_data"
   ]
  },
  {
   "cell_type": "markdown",
   "metadata": {},
   "source": [
    "## Problem 2 "
   ]
  },
  {
   "cell_type": "code",
   "execution_count": 4,
   "metadata": {},
   "outputs": [
    {
     "name": "stdout",
     "output_type": "stream",
     "text": [
      "The average jaccard distance for 10,000 pairs is: 0.9813421412371682\n",
      "The lowest jaccard distance is: 0.5\n"
     ]
    },
    {
     "data": {
      "image/png": "[encoded data removed]",
      "text/plain": [
       "<Figure size 432x288 with 1 Axes>"
      ]
     },
     "metadata": {},
     "output_type": "display_data"
    },
    {
     "name": "stdout",
     "output_type": "stream",
     "text": [
      "Jaccard Distance for 10,000 pairs done: It's been  0.7279930233955383 minutes\n"
     ]
    }
   ],
   "source": [
    "#create 10,000 random pairings and compute average jaccard distance between pairs and plot\n",
    "rand_pairs = []\n",
    "num_users = len(user_row)\n",
    "\n",
    "if timing_analysis:\n",
    "    start_time = time.time()\n",
    "for i in range(0,9999):\n",
    "    a = 0\n",
    "    b = 0\n",
    "    #ensure that a != b before appending to rand_pair list\n",
    "    while(a == b):\n",
    "        a = random.randint(0,num_users)\n",
    "        b = random.randint(0,num_users)\n",
    "        \n",
    "    rand_pairs.append([a,b])\n",
    "\n",
    "\n",
    "#check for pair counts, and make sure no duplicates\n",
    "pair_counts = Counter(map(tuple,rand_pairs))\n",
    "duplicates = [pair for pair,count in pair_counts.items() if count > 1]\n",
    "\n",
    "if not duplicates: #no duplicate pairs\n",
    "    #dictionary to hold jaccard distance b/w pairs\n",
    "    jac_distance = {}\n",
    "    \n",
    "    #compute jaccard distance, each user column will be represented by set of movie #'s they have rated\n",
    "    for pair in rand_pairs:\n",
    "        #convert binary column representation of user to set of movie numbers aka row indexes of 1's\n",
    "        col1 = list(data_matrix[:,pair[0]])\n",
    "        col2 = list(data_matrix[:,pair[1]])\n",
    "        col1_indx = [i for i, x in enumerate(col1) if x == 1]\n",
    "        col2_indx = [i for i, x in enumerate(col2) if x == 1]\n",
    "        pair_intersect = len(list(set(col1_indx).intersection(col2_indx)))\n",
    "        pair_union = len(list(set(col1_indx).union(col2_indx)))\n",
    "        jac_distance[str(pair)] = 1 - (pair_intersect/pair_union)\n",
    "    \n",
    "    #find minimum jaccard distance between pairs\n",
    "    min_index = min(jac_distance, key=jac_distance.get)\n",
    "    min_jac_distance = jac_distance[min_index]\n",
    "    \n",
    "    #compute average jaccard distance for all 10,000 pairs\n",
    "    dist_sum = 0\n",
    "    length = len(jac_distance)\n",
    "    for item in jac_distance:\n",
    "        dist_sum += jac_distance[item]\n",
    "\n",
    "    avg_jac_distance = dist_sum/length\n",
    "    print(\"The average jaccard distance for 10,000 pairs is:\",avg_jac_distance)\n",
    "    print(\"The lowest jaccard distance is:\",min_jac_distance)\n",
    "    \n",
    "    #Plot histogram of jaccard distances\n",
    "    plt.hist(list(jac_distance.values()))\n",
    "    plt.title(\"Jaccard Distances for 10,000 Random Sample Pairs\")\n",
    "    plt.xlabel(\"Jaccard Distance\")\n",
    "    plt.ylabel(\"Number of Pairs\")\n",
    "    plt.show()\n",
    "    \n",
    "    if timing_analysis:\n",
    "        print(\"Jaccard Distance for 10,000 pairs done: It's been \",((time.time()-start_time)/60),\"minutes\")\n",
    "\n",
    "else: #fail safe so know when random pairing resulted in duplicate\n",
    "    print(\"duplicate random pair found. Restart subroutine\")"
   ]
  },
  {
   "cell_type": "markdown",
   "metadata": {},
   "source": [
    "## Problem 3 "
   ]
  },
  {
   "cell_type": "code",
   "execution_count": 7,
   "metadata": {},
   "outputs": [
    {
     "name": "stdout",
     "output_type": "stream",
     "text": [
      "The number of rows has been augmented to 4507\n",
      "Checking if # of rows is prime and augmenting done: It's been  0.3626653552055359 minutes\n",
      "100 hash functions have been used for signature matrix test\n",
      "Hash function parameters determined\n",
      "It's been  6.999572118123372e-05 minutes\n",
      "hash_values matrix compiled. It's been  0.003786158561706543 minutes since hash function parameters determined\n",
      "Signature matrix complete: It's been  9.712041958173115 minutes since hash_values determined\n"
     ]
    }
   ],
   "source": [
    "#number of rows needs to be prime, so check to see if number of rows is prime, if not, find nearest prime\n",
    "num_movies_is_prime = True\n",
    "\n",
    "if timing_analysis:\n",
    "    start_time = time.time()\n",
    "#check to see if # of rows is prime\n",
    "for i in range(2,num_movies):\n",
    "    if num_movies % i == 0:\n",
    "        num_movies_is_prime = False\n",
    "        break\n",
    "\n",
    "#if not prime, find nearest_prime between num_movies and 2*num_movies\n",
    "if(not num_movies_is_prime):\n",
    "    #find nearest prime number\n",
    "    nearest_prime = 0\n",
    "    for i in range(num_movies,2*num_movies):\n",
    "        i_prime = True\n",
    "        for j in range(2,i):\n",
    "            if i % j == 0:\n",
    "                i_prime = False\n",
    "                break\n",
    "        \n",
    "        if(i_prime):\n",
    "            nearest_prime = i\n",
    "            break\n",
    "    \n",
    "    r = nearest_prime\n",
    "    rows_to_augment = np.zeros((r-num_movies,unique_users))\n",
    "    data_matrix = np.concatenate((data_matrix,rows_to_augment),axis=0)\n",
    "    print(\"The number of rows has been augmented to\",nearest_prime)\n",
    "    \n",
    "    if timing_analysis:\n",
    "        print(\"Checking if # of rows is prime and augmenting done: It's been \",((time.time()-start_time)/60),\"minutes\")\n",
    "else:\n",
    "    r = num_movies\n",
    "    print(\"The number of rows were already prime\")\n",
    "    \n",
    "#The more efficient way to store the data is in a signature matrix of hash functions. \n",
    "#we will use 100 hash functions for this as a means to showcase storage. so sig_matrix will be (m x unique_users)\n",
    "#actual # of hash functions will be explored in later problem\n",
    "m_test = 100\n",
    "\n",
    "if debug:\n",
    "    print(m_test,\"hash functions have been used for signature matrix test\")\n",
    "    \n",
    "if timing_analysis:\n",
    "    start_time = time.time()\n",
    "\n",
    "#create a,b pairings for each of the 10,000 hash functions; loop until no duplicate a,b pairings\n",
    "ab_duplicates_test = 1\n",
    "while(ab_duplicates_test):\n",
    "    a_b_pairs_test = []\n",
    "    for i in range(m_test):\n",
    "        a = 0\n",
    "        b = 0\n",
    "    \n",
    "        while(a == b):\n",
    "            a = random.randint(0,r-1)\n",
    "            b = random.randint(0,r-1)\n",
    "    \n",
    "        a_b_pairs_test.append([a,b])\n",
    "\n",
    "    #check for pair counts, and make sure no duplicates\n",
    "    ab_pair_counts = Counter(map(tuple,a_b_pairs_test))\n",
    "    ab_duplicates_test = [pair for pair,count in ab_pair_counts.items() if count > 1]\n",
    "\n",
    "if timing_analysis:\n",
    "    print(\"Hash function parameters determined\")\n",
    "    print(\"It's been \",((time.time()-start_time)/60),\"minutes\")\n",
    "    \n",
    "#now populate the signature matrix. need to filter out non-zero indexes of each column.\n",
    "if timing_analysis:\n",
    "    start_time = time.time()\n",
    "    \n",
    "\n",
    "#create matrix to hold values each hash function maps each row to. rows are a_b pairs, cols are movie index\n",
    "hash_values_test = np.full((len(a_b_pairs_test),num_movies),np.inf)\n",
    "pair_index = 0\n",
    "for pair in a_b_pairs_test:\n",
    "    hash_values_test[pair_index,:] = [(pair[0]*i + pair[1])%r for i in list(range(num_movies))]\n",
    "    pair_index += 1\n",
    "\n",
    "print(\"hash_values matrix compiled. It's been \",((time.time()-start_time)/60),\"minutes since hash function parameters determined\")\n",
    "\n",
    "if timing_analysis:\n",
    "    start_time = time.time()\n",
    "\n",
    "sig_matrix_test = np.full((m_test,unique_users),np.inf)\n",
    "for i in range(unique_users):\n",
    "    #find indexes where column has 1\n",
    "    #iterate through all hash functions for a given user\n",
    "    current_col_indx = [i for i, x in enumerate(list(data_matrix[:,i])) if x == 1]\n",
    "    sig_matrix_test[:,i] = [min([hash_values_test[j][index] for index in current_col_indx]) for j in range(m_test)]\n",
    "    \n",
    "if timing_analysis:\n",
    "    print(\"Signature matrix complete: It's been \",((time.time()-start_time)/60),\"minutes since hash_values determined\")"
   ]
  },
  {
   "cell_type": "markdown",
   "metadata": {},
   "source": [
    "## Problem 4 "
   ]
  },
  {
   "cell_type": "code",
   "execution_count": 10,
   "metadata": {},
   "outputs": [
    {
     "data": {
      "image/png": "[encoded data removed]",
      "text/plain": [
       "<Figure size 432x288 with 1 Axes>"
      ]
     },
     "metadata": {},
     "output_type": "display_data"
    }
   ],
   "source": [
    "# need to do an analysis of figuring out the best b,r values for different m \n",
    "sim = [item/100 for item in list(range(100))]\n",
    "colors = ['r','b','g','c','m','y','k','r'] \n",
    "color_index = 0\n",
    "\n",
    "# [b,r]: (4,250), (5,200), (8,125), (10,100), (20,50),(25,40)\n",
    "pairings = [[5,200],[8,125],[10,100],[20,50],[25,40],[40,25],[125,8],[25,8,'m=200']] #[250,8,'m=2000']\n",
    "\n",
    "for items in pairings:\n",
    "    pr = [1-(1-(i**items[1]))**items[0] for i in sim]\n",
    "    plt.plot(sim, pr, colors[color_index], label=['[b,r]:',items])\n",
    "    color_index += 1\n",
    "    \n",
    "plt.axvline(x=0.65, label = 'sim. threshold for jac. dist. < 0.35')\n",
    "plt.legend(bbox_to_anchor=(1.05, 1), loc=2, borderaxespad=0.)\n",
    "plt.xlabel(\"Sim(C1,C2)\")\n",
    "plt.ylabel(\"Pr(hit)\")\n",
    "plt.show()"
   ]
  },
  {
   "cell_type": "code",
   "execution_count": 11,
   "metadata": {},
   "outputs": [
    {
     "name": "stdout",
     "output_type": "stream",
     "text": [
      "for [125, 8, 'm=1000'] value at sim(C1,C2) = 0.65 is 0.9825410061200314\n",
      "for [250, 8, 'm=2000'] value at sim(C1,C2) = 0.65 is 0.9996951835326993\n",
      "for [100, 5, 'm=500'] value at sim(C1,C2) = 0.65 is 0.9999955964930552\n",
      "for [50, 10, 'm=500'] value at sim(C1,C2) = 0.65 is 0.4922212137958185\n",
      "for [20, 5, 'm=100'] value at sim(C1,C2) = 0.65 is 0.9151289183523188\n"
     ]
    },
    {
     "data": {
      "image/png": "[encoded data removed]",
      "text/plain": [
       "<Figure size 432x288 with 1 Axes>"
      ]
     },
     "metadata": {},
     "output_type": "display_data"
    }
   ],
   "source": [
    "pair_in_depth = [[125,8,'m=1000'],[250,8,'m=2000'],[100,5,'m=500'],[50,10,'m=500'],[20,5,'m=100']]\n",
    "color_index = 0\n",
    "\n",
    "for items in pair_in_depth:\n",
    "    pr = [1-(1-(i**items[1]))**items[0] for i in sim]\n",
    "    plt.plot(sim, pr, colors[color_index], label=['[b,r]:',items])\n",
    "    color_index += 1 \n",
    "    print(\"for\",items,\"value at sim(C1,C2) = 0.65 is\",pr[65])\n",
    "plt.axvline(x=0.65, label = 'sim. threshold for jac. dist. < 0.35')\n",
    "plt.legend(bbox_to_anchor=(1.05, 1), loc=2, borderaxespad=0.)\n",
    "plt.xlabel(\"Sim(C1,C2)\")\n",
    "plt.ylabel(\"Pr(hit)\")\n",
    "plt.show()"
   ]
  },
  {
   "cell_type": "code",
   "execution_count": 9,
   "metadata": {},
   "outputs": [
    {
     "name": "stdout",
     "output_type": "stream",
     "text": [
      "1000 hash functions have been used for signature matrix\n",
      "Hash function parameters determined\n",
      "It's been  0.00011574427286783854 minutes\n",
      "sig_matrix initialized. its been 0.059123798211415605 minutes since hash functions determined\n",
      "Signature matrix complete: It's been  30.742717730998994 minutes since hash functions determined\n"
     ]
    }
   ],
   "source": [
    "#now to create the signature matrix\n",
    "m = 1000 #we will use 1000 hash functions. so sig_matrix will be (m x unique_users)\n",
    "bands = 125\n",
    "r_val = 8\n",
    "\n",
    "if debug:\n",
    "    print(m,\"hash functions have been used for signature matrix\")\n",
    "    \n",
    "if timing_analysis:\n",
    "    start_time = time.time()\n",
    "\n",
    "#create a,b pairings for each of the 10,000 hash functions; loop until no duplicate a,b pairings\n",
    "ab_duplicates = 1\n",
    "while(ab_duplicates):\n",
    "    a_b_pairs = []\n",
    "    for i in range(m):\n",
    "        a = 0\n",
    "        b = 0\n",
    "    \n",
    "        while(a == b):\n",
    "            a = random.randint(0,r-1)\n",
    "            b = random.randint(0,r-1)\n",
    "    \n",
    "        a_b_pairs.append([a,b])\n",
    "\n",
    "    #check for pair counts, and make sure no duplicates\n",
    "    ab_pair_counts = Counter(map(tuple,a_b_pairs))\n",
    "    ab_duplicates = [pair for pair,count in ab_pair_counts.items() if count > 1]\n",
    "\n",
    "if timing_analysis:\n",
    "    print(\"Hash function parameters determined\")\n",
    "    print(\"It's been \",((time.time()-start_time)/60),\"minutes\")\n",
    "    \n",
    "#now populate the signature matrix. need to filter out non-zero indexes of each column.\n",
    "\n",
    "if timing_analysis:\n",
    "    start_time = time.time()\n",
    "    \n",
    "\n",
    "hash_values = np.full((len(a_b_pairs),num_movies),np.inf)\n",
    "\n",
    "\n",
    "#create matrix to hold values each hash function maps each row to. rows are a_b pairs, cols are movie index\n",
    "pair_index = 0\n",
    "for pair in a_b_pairs:\n",
    "    hash_values[pair_index,:] = [(pair[0]*i + pair[1])%r for i in list(range(num_movies))]\n",
    "    pair_index += 1\n",
    "\n",
    "sig_matrix = np.full((m,unique_users),np.inf)\n",
    "print('sig_matrix initialized. its been',((time.time()-start_time)/60),\"minutes since hash functions determined\")\n",
    "\n",
    "#Note: Data_matrix already appended with zeros to have prime number of rows in Problem 3\n",
    "for i in range(unique_users):\n",
    "    #find indexes where column has 1\n",
    "    current_col_indx = [i for i, x in enumerate(list(data_matrix[:,i])) if x == 1]\n",
    "    \n",
    "    #iterate through all hash functions for a given user\n",
    "    sig_matrix[:,i] = [min([hash_values[j][index] for index in current_col_indx]) for j in range(m)]\n",
    "\n",
    "if timing_analysis:\n",
    "    print(\"Signature matrix complete: It's been \",((time.time()-start_time)/60),\"minutes since hash functions determined\")"
   ]
  },
  {
   "cell_type": "code",
   "execution_count": 11,
   "metadata": {},
   "outputs": [
    {
     "name": "stdout",
     "output_type": "stream",
     "text": [
      "a,b pair generation started\n",
      "a,b pairing complete.\n",
      "band hashing of the sig matrix started\n",
      "Signature matrix hashed: It's been  20.686080535252888 minutes since hash functions determined\n"
     ]
    }
   ],
   "source": [
    "#need to have r hash functions to hash the signature matrix bands. \n",
    "#define large prime number p to be modulus\n",
    "p = 179426549\n",
    "\n",
    "if timing_analysis:\n",
    "    start_time = time.time()\n",
    "#create a,b pairings for each of the r hash functions within band; loop until no duplicate a,b pairings\n",
    "print('a,b pair generation started')\n",
    "ab_duplicates_band = 1\n",
    "while(ab_duplicates_band):\n",
    "    a_b_pairs_band= []\n",
    "    for i in range(r_val):\n",
    "        a = 0\n",
    "        b = 0\n",
    "    \n",
    "        while(a == b):\n",
    "            a = random.randint(0,p-1)\n",
    "            b = random.randint(0,p-1)\n",
    "\n",
    "        a_b_pairs_band.append([a,b])\n",
    "        \n",
    "        #check for pair counts, and make sure no duplicates\n",
    "        ab_pair_counts = Counter(map(tuple,a_b_pairs_band))\n",
    "        ab_duplicates_band = [pair for pair,count in ab_pair_counts.items() if count > 1]\n",
    "\n",
    "    \n",
    "print('a,b pairing complete.')\n",
    "print('band hashing of the sig matrix started')\n",
    "candidate_pairs = []  \n",
    "overall_hash_bucket = []\n",
    "for i in range(bands):\n",
    "    hash_bucket = {}\n",
    "    \n",
    "    band_sum = [np.sum(np.array([(a_b_pairs_band[k][0]*sig_matrix[i*r_val +k,j]+ a_b_pairs_band[k][1])%p for k in range(r_val)])) for j in range(unique_users)]\n",
    "    hash_bucket = {}\n",
    "    for j in range(unique_users):    \n",
    "        if str(band_sum[j]) in hash_bucket:\n",
    "            hash_bucket[str(band_sum[j])].append(j)\n",
    "        else:\n",
    "            hash_bucket[str(band_sum[j])] = [j]\n",
    "            \n",
    "    #now determine candidate pairs for this band\n",
    "    candidates = [hash_bucket[key] for key in hash_bucket if len(hash_bucket[key]) > 1]\n",
    "    candidate_pairs_band = [list(item) for item in [itertools.combinations(array,2) for array in candidates]]    \n",
    "    candidate_pairs.append(list(chain.from_iterable(candidate_pairs_band)))\n",
    "\n",
    "if timing_analysis:\n",
    "    print(\"Signature matrix hashed: It's been \",((time.time()-start_time)/60),\"minutes since hash functions determined\")"
   ]
  },
  {
   "cell_type": "code",
   "execution_count": 12,
   "metadata": {},
   "outputs": [],
   "source": [
    "with open('similarPairs.csv','w') as writeFile:\n",
    "  similarWriter = csv.writer(writeFile, delimiter=',')\n",
    "\n",
    "  for i in range(len(candidate_pairs)):\n",
    "    listPairs = list(candidate_pairs[i])\n",
    "        \n",
    "    for j in range(len(listPairs)):\n",
    "      similarWriter.writerow([i, listPairs[j]])"
   ]
  },
  {
   "cell_type": "markdown",
   "metadata": {},
   "source": [
    "## Problem 5"
   ]
  },
  {
   "cell_type": "code",
   "execution_count": 13,
   "metadata": {},
   "outputs": [],
   "source": [
    "def nearest_neighbor(user_list):\n",
    "    # function is passed a list of movies a user liked (movie_indexes) . May or may not have seen this user before\n",
    "    # Thus the function must create a signature column for this user_list, then do a nearest neighbor search. This requires\n",
    "    # banding the signature matrix again, but this time, start with determining the hash value for each band of the queried user\n",
    "    # Now, when doing a searh of the signature matrix, only keep users that hash to the same bucket as the queried user.\n",
    "    # After this, we will have a list of users that hashed to the same bucket in any of the bands, then do a jaccard distance\n",
    "    # calculation on the signature matrix representation of these users. Any users that have a <0.35 sig_mat jacc. distance\n",
    "    # are then calculated for an unhashed jaccard distance. Take the minimum distance from this set of users and return as \n",
    "    # nearest neighbor. Will return [userID,movie_list_of_user]\n",
    "    \n",
    "    #create signature representation of queried user. Will use hash_values matrix previously constructed for this. \n",
    "    m = 1000\n",
    "    bands = 125\n",
    "    r_val = 8\n",
    "    p = 8831\n",
    "    #check to see if the list is of strings or ints.\n",
    "    if isinstance(user_list[0],int):\n",
    "        user_list = [str(item) for item in user_list]\n",
    "    \n",
    "        \n",
    "    # a movie number's index in the movie_column is it's index in the unhashed matrix (before signautre matrix. )\n",
    "    # convert user_list to row_indexes\n",
    "    user_list_index = [movie_column.index(item) for item in user_list]\n",
    "    \n",
    "\n",
    "    #hashed version of queried user\n",
    "    sig_column = [min([hash_values[j][index] for index in user_list_index]) for j in range(m)]\n",
    "\n",
    "    \n",
    "    #Now band hash the sig_column and store in a matrix. This will be the reference value for the band hashing of the overall\n",
    "    # sig_matrix to find close users.\n",
    "    user_band_sum = [np.sum([(a_b_pairs_band[k][0]*sig_column[i*r_val +k]+ a_b_pairs_band[k][1])%p for k in range(r_val)]) for i in range(bands)]\n",
    "    \n",
    "    #Now we have reference hash for each band\n",
    "    queried_candidate_users = []\n",
    "    for i in range(bands):\n",
    "        queried_band_sum = [np.sum([(a_b_pairs_band[k][0]*sig_matrix[i*r_val +k,j]+ a_b_pairs_band[k][1])%p for k in range(r_val)]) for j in range(unique_users)]\n",
    "        \n",
    "        candidate_users_band = [user for user,value in list(enumerate(queried_band_sum)) if value == user_band_sum[i]]\n",
    "        if not candidate_users_band: #no matches in this band\n",
    "            continue\n",
    "        candidate_users_band_up = [item for item in candidate_users_band if item not in queried_candidate_users]\n",
    "        queried_candidate_users.append(candidate_users_band_up)\n",
    "    \n",
    "    if not queried_candidate_users:\n",
    "        print('no match in hashing')\n",
    "        return 0\n",
    "    \n",
    "    #now have a list of queried user's candidate neighbors in queried_candidate_users.\n",
    "    hash_sim_thresh = 0.65\n",
    "    queried_candidate_users_post_hash = []\n",
    "    queried_candidate_users_unrav = list(chain.from_iterable(queried_candidate_users))\n",
    "    for user in queried_candidate_users_unrav:\n",
    "        pair_intersect = len(list(set(sig_matrix[:,user]).intersection(sig_column)))\n",
    "        pair_union = len(list(set(sig_matrix[:,user]).union(sig_column)))\n",
    "        sim = pair_intersect/pair_union\n",
    "        if sim >= hash_sim_thresh:\n",
    "            queried_candidate_users_post_hash.append(user)\n",
    "        \n",
    "    if not queried_candidate_users_post_hash:\n",
    "        #no hash signatures with a high enough threshold, find the maximum among the ones we have \n",
    "        final_candidates = {}\n",
    "        for user in queried_candidate_users_unrav:\n",
    "            col = list(data_matrix[:,user])\n",
    "            col_indx = [i for i, x in enumerate(col) if x == 1]\n",
    "            pair_intersect = len(list(set(col_indx).intersection(user_list_index)))\n",
    "            pair_union = len(list(set(col_indx).union(user_list_index)))\n",
    "            sim = pair_intersect/pair_union\n",
    "            final_candidates[str(user)] = sim\n",
    "    \n",
    "        max_column_index = max(final_candidates, key=final_candidates.get)\n",
    "        userID_neighbor = [value for column,value in list(enumerate(user_index)) if column == int(max_column_index)]\n",
    "        return userID_neighbor[0] \n",
    "    else:\n",
    "        #now have list of queried user's candidate neighbors whose sig_hashs >= 0.65. Do a full data_matrix compare on these and take max\n",
    "        final_candidates = {}\n",
    "        for user in queried_candidate_users_post_hash:\n",
    "            col = list(data_matrix[:,user])\n",
    "            col_indx = [i for i, x in enumerate(col) if x == 1]\n",
    "            pair_intersect = len(list(set(col_indx).intersection(user_list_index)))\n",
    "            pair_union = len(list(set(col_indx).union(user_list_index)))\n",
    "            sim = pair_intersect/pair_union\n",
    "            final_candidates[str(user)] = sim\n",
    "    \n",
    "\n",
    "        max_column_index = max(final_candidates, key=final_candidates.get)\n",
    "        print('max_column_index',max_column_index)\n",
    "        userID_neighbor = [value for column,value in list(enumerate(user_index)) if column == int(max_column_index)]\n",
    "        return userID_neighbor[0] \n",
    "    "
   ]
  },
  {
   "cell_type": "code",
   "execution_count": 14,
   "metadata": {},
   "outputs": [
    {
     "data": {
      "text/plain": [
       "[0, 312, 1144, 1306, 2151, 2451, 2456, 3028, 4265]"
      ]
     },
     "execution_count": 14,
     "metadata": {},
     "output_type": "execute_result"
    }
   ],
   "source": [
    "[i for i, x in enumerate(data_matrix[:,1]) if x == 1]"
   ]
  },
  {
   "cell_type": "code",
   "execution_count": 15,
   "metadata": {},
   "outputs": [
    {
     "name": "stdout",
     "output_type": "stream",
     "text": [
      "max_column_index 1\n"
     ]
    },
    {
     "data": {
      "text/plain": [
       "'2238063'"
      ]
     },
     "execution_count": 15,
     "metadata": {},
     "output_type": "execute_result"
    }
   ],
   "source": [
    "#Testing Problem 5 Function - giving it an exact match to a user already in data_matrix\n",
    "\n",
    "query_user = [1, 313, 1145, 1307, 2152, 2451, 2457, 3029, 4266] #user 1\n",
    "\n",
    "nearest_neighbor(query_user)"
   ]
  },
  {
   "cell_type": "code",
   "execution_count": 194,
   "metadata": {},
   "outputs": [
    {
     "data": {
      "text/plain": [
       "1"
      ]
     },
     "execution_count": 194,
     "metadata": {},
     "output_type": "execute_result"
    }
   ],
   "source": [
    "user_index['2238063']"
   ]
  },
  {
   "cell_type": "code",
   "execution_count": 182,
   "metadata": {},
   "outputs": [
    {
     "data": {
      "text/plain": [
       "[0, 1172, 2171, 3937]"
      ]
     },
     "execution_count": 182,
     "metadata": {},
     "output_type": "execute_result"
    }
   ],
   "source": [
    "[i for i, x in enumerate(data_matrix[:,67]) if x == 1]"
   ]
  },
  {
   "cell_type": "code",
   "execution_count": 183,
   "metadata": {},
   "outputs": [
    {
     "name": "stdout",
     "output_type": "stream",
     "text": [
      "user list ['1', '1173', '2172', '3938']\n",
      "user list index [0, 1172, 2171, 3937]\n",
      "sig column first element 250.0\n",
      "user 1 first element sig matrix 172.0\n",
      "length of user band sum 125 one element 36421.0\n",
      "band 0\n",
      "band 1\n",
      "band 2\n",
      "band 3\n",
      "band 4\n",
      "band 5\n",
      "band 6\n",
      "band 7\n",
      "band 8\n",
      "band 9\n",
      "band 10\n",
      "band 11\n",
      "band 12\n",
      "band 13\n",
      "band 14\n",
      "band 15\n",
      "band 16\n",
      "band 17\n",
      "band 18\n",
      "band 19\n",
      "band 20\n",
      "band 21\n",
      "band 22\n",
      "band 23\n",
      "band 24\n",
      "band 25\n",
      "band 26\n",
      "band 27\n",
      "band 28\n",
      "band 29\n",
      "band 30\n",
      "band 31\n",
      "band 32\n",
      "band 33\n",
      "band 34\n",
      "band 35\n",
      "band 36\n",
      "band 37\n",
      "band 38\n",
      "band 39\n",
      "band 40\n",
      "band 41\n",
      "band 42\n",
      "band 43\n",
      "band 44\n",
      "band 45\n",
      "band 46\n",
      "band 47\n",
      "band 48\n",
      "band 49\n",
      "band 50\n",
      "band 51\n",
      "band 52\n",
      "band 53\n",
      "band 54\n",
      "band 55\n",
      "band 56\n",
      "band 57\n",
      "band 58\n",
      "band 59\n",
      "band 60\n",
      "band 61\n",
      "band 62\n",
      "band 63\n",
      "band 64\n",
      "band 65\n",
      "band 66\n",
      "band 67\n",
      "band 68\n",
      "band 69\n",
      "band 70\n",
      "band 71\n",
      "band 72\n",
      "band 73\n",
      "band 74\n",
      "band 75\n",
      "band 76\n",
      "band 77\n",
      "band 78\n",
      "band 79\n",
      "band 80\n",
      "band 81\n",
      "band 82\n",
      "band 83\n",
      "band 84\n",
      "band 85\n",
      "band 86\n",
      "band 87\n",
      "band 88\n",
      "band 89\n",
      "band 90\n",
      "band 91\n",
      "band 92\n",
      "band 93\n",
      "band 94\n",
      "band 95\n",
      "band 96\n",
      "band 97\n",
      "band 98\n",
      "band 99\n",
      "band 100\n",
      "band 101\n",
      "band 102\n",
      "band 103\n",
      "band 104\n",
      "band 105\n",
      "band 106\n",
      "band 107\n",
      "band 108\n",
      "band 109\n",
      "band 110\n",
      "band 111\n",
      "band 112\n",
      "band 113\n",
      "band 114\n",
      "band 115\n",
      "band 116\n",
      "band 117\n",
      "band 118\n",
      "band 119\n",
      "band 120\n",
      "band 121\n",
      "band 122\n",
      "band 123\n",
      "band 124\n",
      "list of queried users candidate neighbors whose sig_hashs >= 0.65 125\n",
      "[67, 67, 67, 67, 67, 67, 67, 67, 67, 67, 67, 67, 67, 67, 67, 67, 67, 67, 67, 67, 67, 67, 67, 67, 67, 67, 67, 67, 67, 67, 67, 67, 67, 67, 67, 67, 67, 67, 67, 67, 67, 67, 67, 67, 67, 67, 67, 67, 67, 67, 67, 67, 67, 67, 67, 67, 67, 67, 67, 67, 67, 67, 67, 67, 67, 67, 67, 67, 67, 67, 67, 67, 67, 67, 67, 67, 67, 67, 67, 67, 67, 67, 67, 67, 67, 67, 67, 67, 67, 67, 67, 67, 67, 67, 67, 67, 67, 67, 67, 67, 67, 67, 67, 67, 67, 67, 67, 67, 67, 67, 67, 67, 67, 67, 67, 67, 67, 67, 67, 67, 67, 67, 67, 67, 67]\n",
      "{'67': 1.0}\n",
      "min_column_index 67\n",
      "userID_neighbor 2380848\n"
     ]
    },
    {
     "data": {
      "text/plain": [
       "'2380848'"
      ]
     },
     "execution_count": 183,
     "metadata": {},
     "output_type": "execute_result"
    }
   ],
   "source": [
    "#Testing Problem 5 Function - giving it an exact match to a user already in data_matrix\n",
    "\n",
    "query_user = [1,1173,2172,3938] #user 67\n",
    "\n",
    "nearest_neighbor(query_user)"
   ]
  },
  {
   "cell_type": "code",
   "execution_count": 195,
   "metadata": {},
   "outputs": [
    {
     "data": {
      "text/plain": [
       "67"
      ]
     },
     "execution_count": 195,
     "metadata": {},
     "output_type": "execute_result"
    }
   ],
   "source": [
    "user_index['2380848']"
   ]
  },
  {
   "cell_type": "code",
   "execution_count": 184,
   "metadata": {},
   "outputs": [
    {
     "data": {
      "text/plain": [
       "[7, 196, 472, 1072, 1304, 2014, 2341, 3150, 3370, 3937, 3965]"
      ]
     },
     "execution_count": 184,
     "metadata": {},
     "output_type": "execute_result"
    }
   ],
   "source": [
    "[i for i, x in enumerate(data_matrix[:,2009]) if x == 1]"
   ]
  },
  {
   "cell_type": "code",
   "execution_count": 190,
   "metadata": {},
   "outputs": [
    {
     "name": "stdout",
     "output_type": "stream",
     "text": [
      "user list ['8', '197', '473', '1072', '1305', '2015', '2341', '3151', '2271', '3938', '3965']\n",
      "user list index [7, 196, 472, 1071, 1304, 2014, 2340, 3150, 2270, 3937, 3964]\n",
      "sig column first element 52.0\n",
      "user 1 first element sig matrix 172.0\n",
      "length of user band sum 125 one element 37973.0\n",
      "band 0\n",
      "band 1\n",
      "band 2\n",
      "band 3\n",
      "band 4\n",
      "band 5\n",
      "band 6\n",
      "band 7\n",
      "band 8\n",
      "band 9\n",
      "band 10\n",
      "band 11\n",
      "band 12\n",
      "band 13\n",
      "band 14\n",
      "band 15\n",
      "band 16\n",
      "band 17\n",
      "band 18\n",
      "band 19\n",
      "band 20\n",
      "band 21\n",
      "band 22\n",
      "band 23\n",
      "band 24\n",
      "band 25\n",
      "band 26\n",
      "band 27\n",
      "band 28\n",
      "band 29\n",
      "band 30\n",
      "band 31\n",
      "band 32\n",
      "band 33\n",
      "band 34\n",
      "band 35\n",
      "band 36\n",
      "band 37\n",
      "band 38\n",
      "band 39\n",
      "band 40\n",
      "band 41\n",
      "band 42\n",
      "band 43\n",
      "band 44\n",
      "band 45\n",
      "band 46\n",
      "band 47\n",
      "band 48\n",
      "band 49\n",
      "band 50\n",
      "band 51\n",
      "band 52\n",
      "band 53\n",
      "band 54\n",
      "band 55\n",
      "band 56\n",
      "band 57\n",
      "band 58\n",
      "band 59\n",
      "band 60\n",
      "band 61\n",
      "band 62\n",
      "band 63\n",
      "band 64\n",
      "band 65\n",
      "band 66\n",
      "band 67\n",
      "band 68\n",
      "band 69\n",
      "band 70\n",
      "band 71\n",
      "band 72\n",
      "band 73\n",
      "band 74\n",
      "band 75\n",
      "band 76\n",
      "band 77\n",
      "band 78\n",
      "band 79\n",
      "band 80\n",
      "band 81\n",
      "band 82\n",
      "band 83\n",
      "band 84\n",
      "band 85\n",
      "band 86\n",
      "band 87\n",
      "band 88\n",
      "band 89\n",
      "band 90\n",
      "band 91\n",
      "band 92\n",
      "band 93\n",
      "band 94\n",
      "band 95\n",
      "band 96\n",
      "band 97\n",
      "band 98\n",
      "band 99\n",
      "band 100\n",
      "band 101\n",
      "band 102\n",
      "band 103\n",
      "band 104\n",
      "band 105\n",
      "band 106\n",
      "band 107\n",
      "band 108\n",
      "band 109\n",
      "band 110\n",
      "band 111\n",
      "band 112\n",
      "band 113\n",
      "band 114\n",
      "band 115\n",
      "band 116\n",
      "band 117\n",
      "band 118\n",
      "band 119\n",
      "band 120\n",
      "band 121\n",
      "band 122\n",
      "band 123\n",
      "band 124\n",
      "{'19016': 0.0, '27170': 0.0, '34930': 0.04, '42170': 0.05263157894736842, '62855': 0.07407407407407407, '129961': 0.0, '138090': 0.0, '152127': 0.0, '159336': 0.0, '176186': 0.0, '211603': 0.0, '38461': 0.0, '39021': 0.0, '95413': 0.06666666666666667, '141035': 0.0, '146842': 0.0, '14759': 0.0, '17784': 0.0, '19917': 0.0, '26767': 0.0, '70968': 0.0, '76370': 0.0, '106330': 0.0, '117232': 0.0, '158298': 0.0, '177337': 0.05263157894736842, '185848': 0.0, '36230': 0.047619047619047616, '38837': 0.0, '39411': 0.0, '77252': 0.0, '90516': 0.08, '98632': 0.0, '99567': 0.0, '107478': 0.0, '189202': 0.0, '195102': 0.0, '36275': 0.041666666666666664, '175378': 0.0, '1290': 0.08, '1363': 0.05, '35125': 0.0, '80006': 0.0, '84263': 0.0, '94684': 0.0, '147438': 0.0, '172486': 0.0, '172922': 0.0, '173695': 0.0, '24845': 0.0, '87915': 0.0, '147448': 0.0, '158874': 0.05263157894736842, '3805': 0.0, '38531': 0.0, '82463': 0.0, '113461': 0.0, '119992': 0.0, '123116': 0.0, '134713': 0.0, '139647': 0.0, '140701': 0.04, '172969': 0.0, '5759': 0.0, '5829': 0.0, '7184': 0.0, '30967': 0.034482758620689655, '48172': 0.10526315789473684, '65521': 0.0, '73913': 0.037037037037037035, '76263': 0.0, '96632': 0.038461538461538464, '115423': 0.09523809523809523, '122334': 0.0, '126484': 0.0, '156813': 0.0, '167324': 0.0, '179980': 0.0, '193941': 0.0, '76072': 0.0, '163362': 0.0, '167505': 0.0, '178742': 0.0, '193947': 0.0, '207140': 0.0, '48952': 0.09090909090909091, '78669': 0.0, '92046': 0.05555555555555555, '154873': 0.0, '181341': 0.0, '210869': 0.058823529411764705, '41223': 0.0, '68531': 0.07692307692307693, '115953': 0.038461538461538464, '149718': 0.0, '180286': 0.0, '22769': 0.0, '23204': 0.0, '57572': 0.05, '130010': 0.0, '146360': 0.0, '149045': 0.0, '46712': 0.0, '105549': 0.0, '115330': 0.0, '161723': 0.0, '177714': 0.0, '177935': 0.0, '23104': 0.0, '97478': 0.0, '15694': 0.09090909090909091, '24055': 0.0, '28204': 0.0, '60270': 0.0, '69600': 0.0, '92145': 0.041666666666666664, '111959': 0.0, '132786': 0.0, '181790': 0.0, '5393': 0.0, '18615': 0.0, '27180': 0.0, '31152': 0.0, '77277': 0.0, '163312': 0.0, '177598': 0.0, '188944': 0.058823529411764705, '2723': 0.0, '16622': 0.041666666666666664, '22065': 0.0, '33577': 0.0, '63484': 0.0, '87517': 0.0, '94183': 0.0625, '114091': 0.0, '155998': 0.0, '205820': 0.0, '206932': 0.0, '215251': 0.0, '23714': 0.0, '26163': 0.045454545454545456, '77889': 0.0, '88039': 0.041666666666666664, '100276': 0.0, '115158': 0.05, '117314': 0.0, '130258': 0.0, '154342': 0.0, '184596': 0.0, '202813': 0.0, '52662': 0.05555555555555555, '42182': 0.0, '54738': 0.04, '76169': 0.0, '89153': 0.0, '157935': 0.07142857142857142, '163047': 0.0, '3033': 0.03571428571428571, '48267': 0.09090909090909091, '53776': 0.0, '162757': 0.0, '13501': 0.0, '28813': 0.0, '75156': 0.0, '76843': 0.0, '89525': 0.05555555555555555, '129568': 0.0, '147016': 0.0, '151756': 0.0, '187053': 0.0, '188743': 0.0, '46690': 0.0, '80537': 0.0, '81202': 0.0, '116777': 0.0, '117009': 0.0, '153844': 0.0, '179870': 0.0, '183756': 0.0, '192419': 0.0, '34181': 0.0, '75583': 0.0, '79522': 0.0, '80787': 0.05263157894736842, '86033': 0.0, '103747': 0.0, '115665': 0.0, '128625': 0.0, '131145': 0.0, '189794': 0.058823529411764705, '46647': 0.04, '93808': 0.0, '122608': 0.0, '186970': 0.0, '4030': 0.0, '6702': 0.0, '38131': 0.0, '59531': 0.0, '59869': 0.0, '114452': 0.058823529411764705, '120418': 0.0, '124812': 0.0, '2009': 0.4666666666666667, '86913': 0.0, '133721': 0.0, '158572': 0.0, '188285': 0.0, '191988': 0.07142857142857142, '13381': 0.0, '36563': 0.0, '87053': 0.038461538461538464, '108074': 0.0, '143511': 0.0, '145726': 0.043478260869565216, '157076': 0.058823529411764705, '160772': 0.038461538461538464, '174855': 0.0, '7694': 0.0, '77573': 0.0, '84542': 0.043478260869565216, '105605': 0.0, '123977': 0.0, '130514': 0.0, '134183': 0.0, '154021': 0.0, '171943': 0.0, '192037': 0.06666666666666667, '198634': 0.0, '198779': 0.0, '219251': 0.0, '51608': 0.05263157894736842, '33550': 0.0, '37865': 0.05263157894736842, '49846': 0.045454545454545456, '115612': 0.0, '129569': 0.0, '133301': 0.0, '137986': 0.0, '141463': 0.0, '155810': 0.0, '159018': 0.03571428571428571, '174639': 0.0, '190599': 0.0, '212324': 0.0, '220687': 0.0, '14696': 0.0, '30250': 0.047619047619047616, '46995': 0.11764705882352941, '48509': 0.06666666666666667, '103959': 0.05555555555555555, '137523': 0.043478260869565216, '209047': 0.0, '45967': 0.0, '48055': 0.07142857142857142, '52878': 0.07692307692307693, '58771': 0.0, '69905': 0.0, '78228': 0.0, '81396': 0.034482758620689655, '113017': 0.0625, '158388': 0.0, '171483': 0.0, '29183': 0.037037037037037035, '32517': 0.0, '54859': 0.0, '56399': 0.0, '64314': 0.04, '77374': 0.0, '100030': 0.03571428571428571, '113496': 0.0, '120114': 0.0, '137767': 0.045454545454545456, '139879': 0.08333333333333333, '171469': 0.0, '173035': 0.0, '197372': 0.05263157894736842, '215948': 0.0, '216264': 0.0, '8870': 0.0, '43441': 0.0, '46827': 0.0, '105157': 0.0, '129928': 0.0, '137048': 0.0, '169768': 0.0, '212779': 0.0, '33423': 0.043478260869565216, '55894': 0.045454545454545456, '122883': 0.0, '155103': 0.0, '200823': 0.0, '8238': 0.0, '41156': 0.0, '45841': 0.0, '57649': 0.04, '83256': 0.0, '112905': 0.05555555555555555, '120575': 0.0, '136531': 0.0, '213729': 0.0, '4022': 0.1, '5194': 0.0, '19552': 0.0, '31229': 0.0, '46346': 0.0, '64747': 0.0, '65461': 0.0, '81407': 0.0, '95462': 0.0, '115806': 0.0, '116828': 0.0, '117808': 0.0, '123811': 0.0, '126709': 0.0, '126832': 0.0, '127216': 0.0, '127942': 0.0, '188767': 0.0, '210568': 0.0, '6120': 0.0, '8577': 0.05263157894736842, '9990': 0.0, '18537': 0.0, '54072': 0.0, '55188': 0.041666666666666664, '69276': 0.0, '77002': 0.0, '89568': 0.0, '92957': 0.0, '103872': 0.0, '119390': 0.0, '160489': 0.0, '181531': 0.08, '18983': 0.07142857142857142, '45043': 0.043478260869565216, '51527': 0.08333333333333333, '54973': 0.0, '62945': 0.0, '66639': 0.0, '94222': 0.0, '98442': 0.0, '136118': 0.0, '150405': 0.05, '150738': 0.0, '154326': 0.0, '7996': 0.0, '14014': 0.0, '18145': 0.0, '18326': 0.0, '25118': 0.0, '34055': 0.034482758620689655, '42076': 0.0, '46255': 0.06666666666666667, '49560': 0.14285714285714285, '62348': 0.0, '78135': 0.0, '125014': 0.0, '137578': 0.0, '159118': 0.0, '36487': 0.0, '39079': 0.0, '49585': 0.1111111111111111, '162706': 0.0, '26627': 0.0, '34578': 0.0, '37619': 0.0, '51415': 0.045454545454545456, '52881': 0.058823529411764705, '58945': 0.0, '90361': 0.05263157894736842, '132142': 0.0, '148013': 0.0, '183561': 0.0, '204485': 0.0, '204492': 0.0, '2370': 0.11764705882352941, '7024': 0.0, '48451': 0.047619047619047616, '77832': 0.043478260869565216, '81864': 0.0, '97177': 0.0, '105470': 0.05263157894736842, '105533': 0.0, '107105': 0.0, '114082': 0.0, '120385': 0.0, '131461': 0.0, '154485': 0.0, '190501': 0.0, '18269': 0.0, '57595': 0.05263157894736842, '62551': 0.037037037037037035, '96833': 0.0, '168483': 0.0, '179463': 0.0, '194123': 0.07692307692307693, '201117': 0.0, '210660': 0.0, '21042': 0.0, '51238': 0.09090909090909091, '57069': 0.05263157894736842, '64888': 0.0, '73311': 0.0, '92415': 0.0625, '103995': 0.0, '147842': 0.0, '152650': 0.0, '181478': 0.0, '190093': 0.0, '216915': 0.07692307692307693, '9133': 0.0, '177514': 0.0, '202050': 0.0, '220492': 0.0, '4471': 0.034482758620689655, '15868': 0.0, '24328': 0.0, '34210': 0.0, '60043': 0.0, '72297': 0.0, '115847': 0.0, '137190': 0.0, '154927': 0.0, '179117': 0.0, '212002': 0.0, '139': 0.0, '36824': 0.0, '79394': 0.038461538461538464, '114691': 0.0, '183260': 0.0, '3630': 0.04, '56554': 0.0, '68063': 0.0, '91684': 0.0, '108296': 0.0, '143025': 0.0, '144603': 0.0, '165153': 0.0, '180366': 0.0, '32506': 0.0, '39533': 0.0, '79266': 0.0, '105387': 0.0, '106651': 0.047619047619047616, '107499': 0.0, '144436': 0.0, '146706': 0.0, '182163': 0.0, '198515': 0.0, '211628': 0.05, '217954': 0.0, '10928': 0.041666666666666664, '63945': 0.03571428571428571, '84103': 0.06666666666666667, '136810': 0.0, '139839': 0.038461538461538464, '158309': 0.05263157894736842, '194627': 0.0, '222585': 0.0, '47674': 0.05263157894736842, '77401': 0.0, '112600': 0.0, '132499': 0.0, '158526': 0.0, '29748': 0.0, '49705': 0.07142857142857142, '88592': 0.0, '90274': 0.0, '198493': 0.0625, '26954': 0.045454545454545456, '102651': 0.0, '148787': 0.0, '158554': 0.0, '182594': 0.0, '210404': 0.0, '222671': 0.0, '18902': 0.0, '30693': 0.0, '56391': 0.0, '90271': 0.0, '108970': 0.0, '147121': 0.0625, '148940': 0.0, '180042': 0.0, '218799': 0.0, '218810': 0.0, '1453': 0.07692307692307693, '8453': 0.034482758620689655, '25801': 0.0, '32615': 0.0, '44674': 0.0, '48496': 0.058823529411764705, '65101': 0.047619047619047616, '74287': 0.0, '122185': 0.0, '156223': 0.0, '183740': 0.0, '201889': 0.0, '437': 0.0, '68228': 0.0, '77970': 0.0, '93930': 0.0, '105975': 0.0, '128319': 0.0, '132269': 0.0, '172582': 0.0, '199873': 0.0, '49462': 0.09090909090909091, '85339': 0.0, '124358': 0.0, '174901': 0.0, '192202': 0.0, '13538': 0.0, '60479': 0.0, '73114': 0.043478260869565216, '98983': 0.0, '25370': 0.0, '30786': 0.0, '50588': 0.07407407407407407, '205102': 0.0, '205139': 0.0, '210224': 0.07142857142857142, '47335': 0.07692307692307693, '67173': 0.0, '69897': 0.0, '87854': 0.0, '91965': 0.05263157894736842, '101643': 0.0, '114120': 0.0, '130409': 0.0, '134617': 0.0, '160614': 0.0, '166245': 0.0, '166246': 0.0, '172730': 0.0, '23493': 0.0, '24202': 0.0, '93471': 0.0, '125894': 0.0, '145805': 0.0, '163291': 0.0, '163996': 0.0, '34236': 0.0, '40724': 0.0, '40848': 0.05, '54484': 0.0, '91326': 0.0, '93639': 0.0, '98996': 0.0, '105920': 0.0, '136328': 0.0, '175279': 0.0, '204902': 0.0, '216501': 0.0, '217516': 0.0, '217655': 0.0, '217663': 0.0, '217766': 0.0, '217882': 0.0, '13346': 0.0, '34881': 0.038461538461538464, '46872': 0.0, '52471': 0.05263157894736842, '64009': 0.03571428571428571, '85768': 0.0, '101395': 0.04, '135642': 0.0, '146965': 0.0, '160984': 0.0, '171540': 0.0, '173830': 0.0, '1068': 0.10526315789473684, '87425': 0.0, '111719': 0.0, '139235': 0.043478260869565216, '187221': 0.047619047619047616, '198633': 0.0, '199141': 0.0, '199989': 0.0, '207849': 0.0, '58769': 0.0, '63592': 0.0, '97062': 0.041666666666666664, '163094': 0.0, '10842': 0.041666666666666664, '51641': 0.07142857142857142, '65500': 0.0, '71760': 0.0, '73997': 0.08, '85644': 0.05555555555555555, '96931': 0.0, '105268': 0.03571428571428571, '105773': 0.05, '133506': 0.0, '168210': 0.07142857142857142, '1913': 0.10526315789473684, '27816': 0.0, '61211': 0.0, '65534': 0.047619047619047616, '87598': 0.06666666666666667, '111094': 0.0, '153097': 0.0, '186897': 0.0, '191426': 0.05, '195647': 0.0, '220972': 0.0, '21479': 0.0, '38418': 0.0, '48057': 0.041666666666666664, '52945': 0.038461538461538464, '84055': 0.06666666666666667, '88196': 0.0, '93969': 0.0, '102238': 0.0, '102968': 0.0, '103058': 0.0, '137251': 0.0, '46697': 0.0, '165869': 0.0, '195195': 0.0, '196229': 0.0, '22281': 0.0, '30490': 0.0, '66283': 0.0, '129600': 0.0, '133232': 0.0, '139910': 0.1, '146376': 0.0, '159773': 0.043478260869565216, '160335': 0.047619047619047616, '7595': 0.0, '10136': 0.0, '42496': 0.0, '50986': 0.045454545454545456, '129182': 0.0, '153203': 0.0, '155269': 0.0, '155623': 0.0, '164646': 0.0, '5727': 0.0, '22848': 0.0, '72566': 0.0, '100589': 0.0, '106099': 0.0625, '192027': 0.0, '213432': 0.0, '41726': 0.0, '62068': 0.034482758620689655, '65702': 0.037037037037037035, '134356': 0.0, '174290': 0.0, '175680': 0.06666666666666667, '189773': 0.07142857142857142, '194644': 0.0, '100912': 0.0, '11191': 0.0, '16963': 0.058823529411764705, '75013': 0.04, '76086': 0.041666666666666664, '89786': 0.05555555555555555, '107032': 0.0, '122511': 0.0, '134913': 0.0, '167822': 0.0, '184923': 0.0, '185254': 0.0, '9344': 0.0, '107489': 0.0, '190791': 0.0, '205517': 0.0, '1337': 0.16666666666666666, '24017': 0.037037037037037035, '37257': 0.05263157894736842, '47246': 0.1111111111111111, '52852': 0.045454545454545456, '60469': 0.07692307692307693, '114336': 0.037037037037037035, '128499': 0.0, '152799': 0.0, '201100': 0.0, '12610': 0.0, '69430': 0.0, '99809': 0.0, '114275': 0.0, '115944': 0.034482758620689655, '152257': 0.0, '157726': 0.07142857142857142, '164114': 0.0, '324': 0.0, '50999': 0.047619047619047616, '101293': 0.0, '113963': 0.0, '127157': 0.0, '143567': 0.047619047619047616, '145070': 0.0, '150423': 0.0, '173605': 0.0, '178500': 0.0, '192229': 0.0, '197720': 0.0, '41102': 0.05, '41388': 0.0, '69014': 0.0, '102401': 0.0, '117482': 0.0, '138122': 0.058823529411764705, '144978': 0.0, '153547': 0.0, '187043': 0.0, '187904': 0.0, '194420': 0.0, '194798': 0.0, '194827': 0.0, '199905': 0.0, '7203': 0.09090909090909091, '24561': 0.058823529411764705, '71382': 0.0, '112587': 0.03571428571428571, '152416': 0.0, '160336': 0.0, '184490': 0.0, '4198': 0.047619047619047616, '52399': 0.058823529411764705, '92175': 0.0, '168313': 0.0, '168836': 0.0, '207401': 0.0, '21273': 0.0, '52213': 0.07692307692307693, '57797': 0.0, '64930': 0.0, '80869': 0.0, '146128': 0.0, '175816': 0.0, '142205': 0.0, '20286': 0.0, '39894': 0.0, '41974': 0.0, '51218': 0.038461538461538464, '91350': 0.0, '105970': 0.0, '117102': 0.0, '135982': 0.0, '147414': 0.0, '159894': 0.0, '18159': 0.0, '34277': 0.0, '37051': 0.0, '48256': 0.05555555555555555, '56625': 0.0, '58006': 0.0, '122038': 0.0, '122585': 0.0, '131663': 0.0, '142201': 0.07142857142857142, '147270': 0.0, '170960': 0.043478260869565216, '13509': 0.0, '38039': 0.03571428571428571, '71968': 0.0, '94594': 0.0, '111236': 0.0, '113167': 0.08333333333333333, '124941': 0.0, '131094': 0.0, '144780': 0.0, '162783': 0.0, '182178': 0.0, '187503': 0.0, '5412': 0.0, '76918': 0.0, '92477': 0.0, '123125': 0.0, '196991': 0.0, '208486': 0.0, '10743': 0.06666666666666667, '11281': 0.0, '36848': 0.0, '109066': 0.04, '129161': 0.0, '21080': 0.0, '79360': 0.0, '83134': 0.0, '118507': 0.0, '133768': 0.0, '146451': 0.0625, '163010': 0.0625, '170577': 0.0, '190600': 0.0, '39586': 0.041666666666666664, '51598': 0.07142857142857142, '53446': 0.05555555555555555, '83760': 0.0, '123443': 0.0, '148987': 0.0, '154487': 0.05555555555555555, '198459': 0.0, '86518': 0.0, '120073': 0.0, '128516': 0.0, '141516': 0.0, '142929': 0.0, '177190': 0.0, '571': 0.08333333333333333, '90495': 0.05263157894736842, '93526': 0.0, '94187': 0.038461538461538464, '185186': 0.0, '200001': 0.0, '208366': 0.07692307692307693, '208799': 0.07692307692307693, '208862': 0.07692307692307693, '209889': 0.0, '4489': 0.0, '21813': 0.0, '59795': 0.0, '71021': 0.07407407407407407, '88587': 0.0, '98257': 0.0, '106959': 0.0, '133223': 0.0, '137893': 0.0, '200197': 0.0, '6710': 0.04, '7402': 0.047619047619047616, '11142': 0.0, '31424': 0.0, '44702': 0.0, '106853': 0.07142857142857142, '148190': 0.038461538461538464, '163201': 0.0, '177875': 0.0, '212015': 0.0, '14555': 0.0, '32373': 0.0, '73868': 0.0, '78841': 0.041666666666666664, '116810': 0.0, '161823': 0.0, '196960': 0.0, '9550': 0.0, '10288': 0.08695652173913043, '33785': 0.0, '34293': 0.0, '37704': 0.0, '43189': 0.041666666666666664, '47895': 0.038461538461538464, '76813': 0.0, '79302': 0.0, '206040': 0.0, '44092': 0.043478260869565216, '164962': 0.0, '206239': 0.0, '2598': 0.0, '31053': 0.05, '81657': 0.0, '81746': 0.0, '82705': 0.0, '88590': 0.0, '91720': 0.0, '114717': 0.0, '120812': 0.0, '132867': 0.0, '158996': 0.0, '176563': 0.0, '216566': 0.0, '12325': 0.0, '96287': 0.03571428571428571, '112932': 0.047619047619047616, '132314': 0.047619047619047616, '9221': 0.07142857142857142, '12377': 0.047619047619047616, '136875': 0.0, '143939': 0.0, '164951': 0.0, '183602': 0.0, '30636': 0.0, '82797': 0.038461538461538464, '92596': 0.045454545454545456, '93935': 0.0, '99077': 0.0, '110290': 0.04, '119626': 0.07692307692307693, '131033': 0.0, '155519': 0.0, '1874': 0.05, '3949': 0.0, '126379': 0.0, '139835': 0.0, '195708': 0.0, '196260': 0.0, '208085': 0.0, '209046': 0.0, '10395': 0.0, '17552': 0.11764705882352941, '45902': 0.0, '48114': 0.043478260869565216, '74077': 0.0, '129986': 0.0, '140107': 0.0, '150275': 0.0, '183455': 0.07142857142857142, '210009': 0.07692307692307693, '20155': 0.0, '41808': 0.0, '41934': 0.0, '92964': 0.0, '103881': 0.0, '113313': 0.07407407407407407, '127771': 0.0, '135427': 0.0, '217446': 0.0, '17733': 0.0, '54372': 0.0, '77128': 0.08333333333333333, '106674': 0.041666666666666664, '111996': 0.0, '2212': 0.0, '8294': 0.0, '9134': 0.0, '37840': 0.0, '59468': 0.0, '77974': 0.0, '85411': 0.0, '88923': 0.0, '106193': 0.0, '109010': 0.0, '2024': 0.05, '40570': 0.0, '51905': 0.08333333333333333, '78988': 0.0, '80473': 0.0, '81163': 0.0, '81468': 0.0, '84712': 0.0, '85079': 0.0, '85125': 0.0, '85463': 0.0, '93708': 0.0, '150796': 0.0, '167941': 0.0, '175298': 0.0, '177370': 0.0, '38121': 0.0, '49240': 0.05555555555555555, '57125': 0.0, '62464': 0.0, '108746': 0.045454545454545456, '122141': 0.0, '193916': 0.0, '206688': 0.0, '18589': 0.0, '36629': 0.03571428571428571, '97469': 0.03571428571428571, '99850': 0.0, '100120': 0.0, '135057': 0.0, '151777': 0.0, '163146': 0.0, '177620': 0.0, '185825': 0.0, '12075': 0.0, '20309': 0.0, '30016': 0.047619047619047616, '44945': 0.0, '75558': 0.038461538461538464, '136108': 0.0, '188703': 0.0, '28539': 0.0, '31806': 0.0, '34404': 0.0, '40416': 0.041666666666666664, '62844': 0.04, '91980': 0.034482758620689655, '119204': 0.0, '151567': 0.0, '196420': 0.0, '45978': 0.0, '47515': 0.1, '63014': 0.041666666666666664, '117401': 0.0, '76231': 0.0, '76245': 0.0, '76284': 0.0, '76430': 0.0, '76475': 0.0, '76545': 0.0, '76624': 0.0, '45400': 0.0, '92017': 0.0, '102296': 0.0, '114927': 0.0, '161524': 0.0, '211613': 0.0}\n",
      "min_column_index 19016\n",
      "userID_neighbor 2320186\n"
     ]
    },
    {
     "data": {
      "text/plain": [
       "'2320186'"
      ]
     },
     "execution_count": 190,
     "metadata": {},
     "output_type": "execute_result"
    }
   ],
   "source": [
    "#Testing Problem 5 Function - giving it an exact match to a user already in data_matrix\n",
    "\n",
    "query_user = [8,197,473,1072,1305,2015,2341,3151,2271,3938,3965] #user 2009 with some slight off\n",
    "\n",
    "nearest_neighbor(query_user)"
   ]
  },
  {
   "cell_type": "code",
   "execution_count": 192,
   "metadata": {},
   "outputs": [
    {
     "data": {
      "text/plain": [
       "19016"
      ]
     },
     "execution_count": 192,
     "metadata": {},
     "output_type": "execute_result"
    }
   ],
   "source": [
    "user_index['2320186']"
   ]
  },
  {
   "cell_type": "code",
   "execution_count": 193,
   "metadata": {},
   "outputs": [
    {
     "data": {
      "text/plain": [
       "[29, 298, 1109, 1636, 1961, 2390, 2861, 3078, 3105, 3824, 3904, 4305]"
      ]
     },
     "execution_count": 193,
     "metadata": {},
     "output_type": "execute_result"
    }
   ],
   "source": [
    "[i for i, x in enumerate(data_matrix[:,19106]) if x == 1]"
   ]
  },
  {
   "cell_type": "code",
   "execution_count": 196,
   "metadata": {},
   "outputs": [
    {
     "name": "stdout",
     "output_type": "stream",
     "text": [
      "user list ['1', '70', '66', '2001', '1992', '4000']\n",
      "user list index [0, 69, 65, 2000, 1991, 3999]\n",
      "sig column first element 250.0\n",
      "user 1 first element sig matrix 172.0\n",
      "length of user band sum 125 one element 38797.0\n",
      "band 0\n",
      "band 1\n",
      "band 2\n",
      "band 3\n",
      "band 4\n",
      "band 5\n",
      "band 6\n",
      "band 7\n",
      "band 8\n",
      "band 9\n",
      "band 10\n",
      "band 11\n",
      "band 12\n",
      "band 13\n",
      "band 14\n",
      "band 15\n",
      "band 16\n",
      "band 17\n",
      "band 18\n",
      "band 19\n",
      "band 20\n",
      "band 21\n",
      "band 22\n",
      "band 23\n",
      "band 24\n",
      "band 25\n",
      "band 26\n",
      "band 27\n",
      "band 28\n",
      "band 29\n",
      "band 30\n",
      "band 31\n",
      "band 32\n",
      "band 33\n",
      "band 34\n",
      "band 35\n",
      "band 36\n",
      "band 37\n",
      "band 38\n",
      "band 39\n",
      "band 40\n",
      "band 41\n",
      "band 42\n",
      "band 43\n",
      "band 44\n",
      "band 45\n",
      "band 46\n",
      "band 47\n",
      "band 48\n",
      "band 49\n",
      "band 50\n",
      "band 51\n",
      "band 52\n",
      "band 53\n",
      "band 54\n",
      "band 55\n",
      "band 56\n",
      "band 57\n",
      "band 58\n",
      "band 59\n",
      "band 60\n",
      "band 61\n",
      "band 62\n",
      "band 63\n",
      "band 64\n",
      "band 65\n",
      "band 66\n",
      "band 67\n",
      "band 68\n",
      "band 69\n",
      "band 70\n",
      "band 71\n",
      "band 72\n",
      "band 73\n",
      "band 74\n",
      "band 75\n",
      "band 76\n",
      "band 77\n",
      "band 78\n",
      "band 79\n",
      "band 80\n",
      "band 81\n",
      "band 82\n",
      "band 83\n",
      "band 84\n",
      "band 85\n",
      "band 86\n",
      "band 87\n",
      "band 88\n",
      "band 89\n",
      "band 90\n",
      "band 91\n",
      "band 92\n",
      "band 93\n",
      "band 94\n",
      "band 95\n",
      "band 96\n",
      "band 97\n",
      "band 98\n",
      "band 99\n",
      "band 100\n",
      "band 101\n",
      "band 102\n",
      "band 103\n",
      "band 104\n",
      "band 105\n",
      "band 106\n",
      "band 107\n",
      "band 108\n",
      "band 109\n",
      "band 110\n",
      "band 111\n",
      "band 112\n",
      "band 113\n",
      "band 114\n",
      "band 115\n",
      "band 116\n",
      "band 117\n",
      "band 118\n",
      "band 119\n",
      "band 120\n",
      "band 121\n",
      "band 122\n",
      "band 123\n",
      "band 124\n",
      "{'10030': 0.045454545454545456, '40724': 0.0, '53675': 0.0, '113856': 0.0, '139535': 0.0, '204533': 0.0, '26203': 0.0, '28888': 0.0, '42806': 0.0, '64640': 0.0, '108894': 0.0, '110949': 0.0, '138555': 0.0, '146953': 0.0, '190869': 0.0, '210044': 0.0, '18693': 0.0, '24920': 0.0, '68017': 0.0, '76982': 0.0, '89692': 0.0, '99785': 0.0, '164602': 0.0, '184031': 0.0, '207372': 0.0, '223314': 0.0, '5128': 0.0, '27491': 0.0, '30160': 0.0, '82097': 0.0, '92593': 0.0, '95256': 0.0, '122212': 0.0, '123347': 0.0, '132566': 0.0, '191377': 0.0, '215378': 0.0, '215380': 0.0, '20587': 0.0, '26542': 0.0, '50086': 0.0, '55462': 0.0, '84195': 0.0, '102259': 0.0, '209063': 0.0, '220304': 0.0, '221004': 0.0, '221025': 0.0, '221041': 0.0, '221042': 0.0, '221106': 0.0, '107638': 0.0, '10366': 0.0, '133911': 0.0, '147536': 0.0, '23220': 0.0, '41585': 0.0, '98630': 0.0, '110580': 0.0, '112808': 0.0, '155111': 0.0, '191933': 0.0, '212451': 0.0, '30069': 0.0, '44370': 0.0, '55471': 0.0, '71843': 0.0, '72482': 0.0, '127683': 0.0, '143559': 0.0, '156943': 0.0, '196334': 0.0, '40950': 0.0, '73270': 0.0, '118516': 0.0, '140033': 0.0, '188326': 0.0, '157092': 0.0, '157606': 0.0, '83014': 0.0, '98260': 0.0, '142742': 0.0, '191821': 0.0, '195626': 0.0, '10769': 0.0, '12343': 0.0, '21306': 0.0, '54825': 0.0, '64292': 0.0, '64350': 0.0, '72119': 0.0, '113761': 0.0, '118106': 0.0, '171306': 0.0, '206782': 0.0, '210994': 0.0, '51905': 0.0, '52740': 0.0, '72600': 0.0, '97763': 0.0, '109996': 0.0, '113580': 0.0, '129408': 0.0, '131747': 0.0, '133976': 0.0, '163469': 0.0, '168243': 0.0, '168740': 0.0, '169772': 0.0, '195568': 0.0, '195607': 0.0, '195624': 0.0, '195702': 0.0, '196024': 0.0, '196057': 0.0, '196194': 0.0, '196196': 0.0, '196216': 0.0, '196259': 0.0, '17827': 0.0, '35277': 0.0, '42583': 0.0, '47543': 0.0, '49786': 0.0, '52606': 0.0, '106708': 0.0, '215403': 0.0, '71013': 0.0, '141526': 0.0, '6958': 0.0, '17287': 0.0, '19706': 0.0, '22073': 0.0, '22221': 0.0, '58547': 0.0, '63229': 0.0, '72020': 0.0, '75605': 0.0, '93330': 0.0, '101893': 0.0, '114847': 0.0, '140103': 0.0, '5703': 0.0, '8459': 0.0, '16989': 0.0, '27788': 0.0, '30101': 0.0, '36167': 0.0, '59219': 0.0, '152530': 0.0, '205535': 0.0, '208581': 0.0, '209783': 0.0, '218856': 0.0, '7982': 0.0, '60546': 0.0, '108667': 0.0, '122321': 0.0, '143253': 0.0, '158331': 0.0, '164896': 0.0, '180056': 0.0, '5347': 0.0, '34695': 0.0, '44917': 0.0, '72606': 0.0, '151753': 0.0, '168583': 0.0, '185970': 0.0, '196723': 0.0, '62369': 0.0, '108192': 0.0, '150333': 0.0, '836': 0.0, '36938': 0.0, '51969': 0.0, '60472': 0.0, '65441': 0.0, '91828': 0.0, '137261': 0.0, '190724': 0.0, '22837': 0.0, '26776': 0.0, '34081': 0.0, '50681': 0.0, '116083': 0.0, '120186': 0.0, '121828': 0.0, '224605': 0.0, '43457': 0.0, '2434': 0.0, '10085': 0.0, '29074': 0.06666666666666667, '53081': 0.0, '55315': 0.0, '73247': 0.0, '86436': 0.0, '89042': 0.0, '89425': 0.0, '98330': 0.0, '103281': 0.0, '105158': 0.0, '139051': 0.0, '153893': 0.0, '180278': 0.0, '202139': 0.0, '209416': 0.0, '6845': 0.0, '12915': 0.0, '29466': 0.0, '41033': 0.0, '94056': 0.0, '104690': 0.0, '124783': 0.0, '149287': 0.0, '170477': 0.0, '3129': 0.0, '45063': 0.0, '85219': 0.0, '86900': 0.0, '28743': 0.0, '57994': 0.0, '62376': 0.0, '80828': 0.0, '115656': 0.0, '126954': 0.0, '141233': 0.0, '180711': 0.0, '193513': 0.0, '195685': 0.0, '16839': 0.0, '32058': 0.0, '53306': 0.0, '62098': 0.0, '91353': 0.0, '106369': 0.0, '162762': 0.0, '186121': 0.0, '197154': 0.0, '758': 0.0, '11275': 0.0, '24227': 0.0, '31540': 0.0, '65521': 0.0, '130325': 0.0, '135608': 0.0, '155954': 0.0, '215074': 0.0, '217324': 0.0, '217325': 0.0, '9632': 0.0, '21951': 0.0, '28732': 0.0, '200802': 0.0, '70851': 0.0, '123112': 0.0, '171123': 0.0, '187555': 0.0, '2348': 0.0, '66550': 0.0, '70991': 0.0, '101277': 0.0, '109378': 0.0, '126341': 0.0, '154344': 0.0, '15182': 0.0, '50875': 0.0, '53340': 0.0, '114144': 0.0, '123460': 0.0, '125765': 0.0, '127121': 0.0, '145727': 0.0, '163940': 0.0, '209189': 0.0, '223758': 0.0, '6988': 0.0, '11138': 0.0, '16529': 0.0, '48213': 0.0, '52765': 0.0, '83085': 0.0, '92638': 0.0, '94104': 0.0, '169067': 0.0, '180350': 0.0, '185709': 0.0, '195350': 0.0, '198882': 0.0, '218098': 0.0, '218101': 0.0, '218103': 0.0, '218105': 0.0, '218114': 0.0, '218118': 0.0, '218120': 0.0, '218128': 0.0, '218132': 0.0, '218133': 0.0, '218135': 0.0, '218139': 0.0, '218140': 0.0, '218141': 0.0, '218142': 0.0, '218144': 0.0, '218145': 0.0, '218146': 0.0, '218150': 0.0, '218158': 0.0, '218159': 0.0, '218160': 0.0, '9684': 0.0, '21062': 0.0, '31811': 0.0, '43589': 0.0, '44799': 0.0, '46660': 0.0, '54915': 0.0, '113255': 0.0, '132923': 0.0, '205690': 0.0, '205691': 0.0, '205694': 0.0, '23735': 0.0, '44993': 0.041666666666666664, '80227': 0.0, '84691': 0.0, '150181': 0.0, '182431': 0.0, '221954': 0.0, '15766': 0.0, '35507': 0.0, '68781': 0.0, '72198': 0.0, '99631': 0.0, '107104': 0.0, '211863': 0.0, '221550': 0.0, '120321': 0.0, '122047': 0.0, '122068': 0.0, '129880': 0.0, '136215': 0.0, '146360': 0.0, '163805': 0.0, '186131': 0.0, '198482': 0.0, '13377': 0.0, '22912': 0.0625, '25266': 0.0, '93291': 0.0, '106083': 0.0, '150112': 0.0, '174831': 0.0, '2105': 0.0, '25674': 0.0, '34587': 0.0, '61608': 0.0, '80840': 0.0, '82482': 0.0, '98821': 0.0, '105425': 0.0, '115758': 0.0, '177781': 0.0, '183840': 0.0, '183920': 0.0, '191690': 0.0, '222011': 0.0, '4006': 0.0, '8657': 0.0, '13539': 0.0, '20030': 0.0, '29292': 0.0, '29564': 0.0, '34909': 0.0, '37141': 0.0, '65359': 0.0, '94108': 0.0, '117185': 0.0, '180503': 0.0, '221381': 0.0, '222585': 0.0, '39528': 0.0, '43201': 0.0, '47460': 0.0, '54796': 0.0, '58989': 0.0, '98987': 0.0, '110816': 0.0, '124663': 0.0, '132364': 0.0, '6806': 0.0, '19496': 0.0, '22167': 0.0, '25973': 0.0, '53071': 0.0, '58702': 0.0, '58910': 0.0, '62643': 0.0, '77117': 0.0, '104630': 0.0, '141169': 0.0, '160253': 0.0, '8174': 0.0, '15867': 0.0, '21018': 0.0, '41634': 0.0, '49118': 0.0, '73514': 0.0, '155467': 0.0, '160435': 0.0, '182831': 0.0, '21294': 0.0, '113214': 0.0, '122030': 0.0, '152514': 0.0, '205524': 0.0, '220309': 0.0, '21038': 0.0, '27366': 0.0, '50501': 0.0, '58347': 0.0, '64693': 0.0, '90744': 0.0, '125782': 0.0, '128207': 0.0, '129277': 0.0, '143926': 0.0, '11860': 0.0, '45548': 0.0, '48098': 0.0, '61584': 0.0, '103521': 0.0, '113379': 0.0, '130334': 0.0, '148723': 0.0, '149249': 0.0, '161818': 0.0, '200378': 0.0, '208128': 0.0, '213826': 0.0, '217788': 0.0, '63828': 0.0, '66013': 0.0, '86397': 0.0, '147593': 0.0, '155839': 0.0, '213836': 0.0, '219903': 0.0, '21786': 0.0, '30758': 0.0, '38904': 0.0, '52016': 0.0, '122185': 0.0, '161432': 0.0, '187567': 0.0, '36755': 0.0, '68998': 0.0, '80671': 0.0, '82173': 0.0, '96191': 0.0, '125095': 0.0, '150675': 0.0, '152177': 0.0, '179496': 0.0, '16543': 0.0, '21451': 0.0, '65046': 0.0, '77062': 0.0, '93140': 0.0, '141777': 0.0, '160731': 0.0, '160967': 0.0, '186361': 0.0, '196754': 0.0, '218944': 0.0, '219171': 0.0, '219304': 0.0, '16052': 0.0, '65121': 0.0, '91345': 0.0, '95631': 0.0, '126586': 0.0, '145646': 0.0, '173917': 0.0, '175629': 0.0, '187018': 0.0, '42120': 0.0, '98986': 0.0, '147662': 0.0, '203307': 0.0, '79143': 0.0, '221766': 0.0, '22557': 0.0, '25276': 0.0, '96487': 0.0, '137945': 0.0, '160257': 0.0, '196645': 0.0, '218405': 0.0, '46318': 0.0, '66035': 0.0, '199751': 0.0, '214208': 0.0, '31659': 0.0, '61561': 0.0, '71670': 0.0, '92447': 0.0, '116322': 0.0, '172135': 0.0, '189132': 0.0, '12021': 0.0, '35513': 0.0, '36711': 0.0, '44247': 0.0, '57403': 0.0, '75040': 0.0, '41098': 0.0, '55297': 0.0, '77825': 0.0, '119037': 0.0, '139478': 0.0, '144394': 0.0, '149002': 0.0, '149174': 0.0, '177114': 0.0, '185602': 0.0, '10826': 0.0, '18966': 0.0, '35857': 0.0, '73803': 0.0, '74002': 0.0, '82250': 0.0, '88653': 0.0, '103971': 0.0, '109613': 0.0, '123453': 0.0, '125781': 0.0, '130170': 0.0, '155645': 0.0, '174823': 0.0, '205363': 0.0, '206908': 0.0, '14108': 0.0, '47745': 0.0, '76606': 0.0, '76858': 0.0, '117719': 0.0, '127636': 0.0, '173441': 0.0, '186462': 0.0, '41265': 0.0, '57350': 0.0, '76024': 0.0, '87835': 0.0, '88461': 0.0, '95880': 0.0, '107429': 0.0, '113979': 0.0, '150450': 0.0, '150507': 0.0, '181286': 0.0, '181911': 0.0, '182750': 0.0, '183772': 0.0, '183796': 0.0, '185644': 0.0, '188812': 0.0, '214143': 0.0, '116256': 0.0, '132564': 0.0, '155222': 0.0, '7788': 0.0, '29099': 0.0, '50325': 0.0, '60502': 0.0, '63579': 0.0, '64090': 0.0, '86293': 0.0, '111961': 0.0, '116568': 0.0, '129909': 0.0, '169077': 0.0, '211808': 0.0, '2267': 0.0, '24752': 0.0, '41669': 0.0, '53451': 0.0, '127456': 0.0, '135170': 0.0, '148267': 0.0, '152432': 0.0, '162448': 0.0, '209859': 0.0, '214308': 0.0, '105992': 0.0, '209175': 0.0, '43311': 0.0, '79721': 0.0, '85157': 0.0, '88935': 0.0, '107946': 0.0, '145248': 0.0, '180714': 0.0, '181990': 0.0, '182785': 0.0, '182790': 0.0, '182994': 0.0, '183639': 0.0, '6622': 0.0, '26531': 0.0, '93054': 0.0, '95505': 0.0, '117240': 0.0, '117299': 0.0, '145858': 0.0, '148771': 0.0, '150236': 0.0, '171015': 0.0, '2282': 0.0, '13682': 0.0, '33091': 0.0, '52550': 0.0, '52825': 0.0, '59896': 0.0, '60154': 0.0, '63166': 0.0, '69361': 0.0, '76135': 0.0, '84884': 0.0, '89214': 0.0, '119218': 0.0, '122837': 0.0, '137262': 0.0, '144510': 0.0, '201407': 0.0, '209141': 0.0, '215553': 0.0, '215599': 0.0, '215603': 0.0, '215607': 0.0, '42371': 0.0, '62299': 0.0, '67148': 0.0, '100751': 0.0, '105198': 0.0, '28440': 0.0, '99066': 0.0, '127410': 0.0, '213763': 0.0, '214118': 0.0, '4908': 0.0, '35631': 0.0, '96930': 0.0, '114418': 0.0, '190116': 0.0, '144': 0.0, '4370': 0.0, '52839': 0.0, '65955': 0.0, '68021': 0.0, '76310': 0.0, '77306': 0.0, '78222': 0.0, '78661': 0.0, '97460': 0.0, '105214': 0.0, '107611': 0.0, '110640': 0.0, '110784': 0.0, '145292': 0.0, '167628': 0.0, '189252': 0.0, '207232': 0.0, '25942': 0.0, '105292': 0.0, '111208': 0.0, '111653': 0.0, '127230': 0.0, '129446': 0.0, '150038': 0.0, '172036': 0.0, '186704': 0.0, '8940': 0.0, '15390': 0.0, '36713': 0.0, '133288': 0.0, '162367': 0.0, '195105': 0.0, '27617': 0.0, '39615': 0.0, '54689': 0.0, '56461': 0.0, '68410': 0.0, '74189': 0.0, '93019': 0.0, '197577': 0.0, '199145': 0.0, '201669': 0.0, '207491': 0.0, '207492': 0.0, '207627': 0.0, '207664': 0.0, '207665': 0.0, '207783': 0.0, '207786': 0.0, '207850': 0.0, '207875': 0.0, '2963': 0.0, '7305': 0.0, '11406': 0.0, '15163': 0.0, '51904': 0.0, '67623': 0.0, '67960': 0.0, '96876': 0.0, '120834': 0.0, '121173': 0.0, '128849': 0.0, '145742': 0.0, '158152': 0.0, '171041': 0.0, '212281': 0.0, '58413': 0.0, '59576': 0.0, '65755': 0.0, '68126': 0.0, '81707': 0.0, '98752': 0.0, '103080': 0.0, '123838': 0.0, '152979': 0.0, '155899': 0.0, '172609': 0.0, '173786': 0.0, '181191': 0.0, '190226': 0.0, '321': 0.0, '10919': 0.0, '52151': 0.0, '91116': 0.0, '180553': 0.0, '186402': 0.0, '191929': 0.0, '194605': 0.0, '18416': 0.0, '52709': 0.0, '82799': 0.0, '91953': 0.0, '95515': 0.0, '119086': 0.0, '132279': 0.0, '134330': 0.0, '140535': 0.0, '152228': 0.0, '161420': 0.0, '186150': 0.0, '1044': 0.0, '6843': 0.0, '53301': 0.0, '80140': 0.0, '81288': 0.0, '88908': 0.0, '6968': 0.0, '62549': 0.0, '70780': 0.0, '102940': 0.0, '104669': 0.0, '131433': 0.0, '6649': 0.0, '19444': 0.0, '32013': 0.0, '38339': 0.0, '56223': 0.0, '60573': 0.0, '86277': 0.0, '62342': 0.0, '76614': 0.0, '110448': 0.0, '160685': 0.0, '208830': 0.0, '37086': 0.0, '88402': 0.0, '99057': 0.0, '147367': 0.0, '143759': 0.0, '222286': 0.0, '33995': 0.0, '60675': 0.0, '70049': 0.0, '113887': 0.0, '156058': 0.0, '157761': 0.0, '181605': 0.0, '213966': 0.0, '225179': 0.0, '1343': 0.0, '48674': 0.0, '93262': 0.0, '96402': 0.0, '112177': 0.0, '149243': 0.0, '196878': 0.0, '25805': 0.0, '36120': 0.0, '44415': 0.0, '103882': 0.0, '111816': 0.0, '218315': 0.0, '39308': 0.0, '100439': 0.0, '107952': 0.0, '109962': 0.0, '141997': 0.0, '147310': 0.0, '150894': 0.0, '156766': 0.0, '174679': 0.0, '212392': 0.0, '25543': 0.0, '41641': 0.0, '68437': 0.0, '115386': 0.0, '120249': 0.0, '125078': 0.0, '136618': 0.0, '180848': 0.0, '185325': 0.0, '18662': 0.0, '70714': 0.0, '87319': 0.0, '106585': 0.0, '110053': 0.0, '133240': 0.0, '153102': 0.0, '160832': 0.0, '183744': 0.0, '198700': 0.0, '199313': 0.0, '7155': 0.0, '22719': 0.0, '32042': 0.0, '52303': 0.0, '52444': 0.0, '57265': 0.0, '66124': 0.0, '88196': 0.0, '95225': 0.0, '99427': 0.0, '113922': 0.0, '153478': 0.0, '174904': 0.0, '178064': 0.0, '215143': 0.0, '218665': 0.0, '81096': 0.0, '93715': 0.0, '100402': 0.0, '112280': 0.0, '180854': 0.0, '214874': 0.0, '6505': 0.0, '21822': 0.0, '27021': 0.0, '38074': 0.0, '41945': 0.0, '50575': 0.0, '58242': 0.0, '70864': 0.0, '102583': 0.0, '108755': 0.0, '191513': 0.0, '193067': 0.0, '211606': 0.0, '7739': 0.0, '14095': 0.0, '23884': 0.0, '49215': 0.0, '66990': 0.0, '70582': 0.0, '97984': 0.0, '98997': 0.0, '133141': 0.0, '140394': 0.0, '146256': 0.0, '191065': 0.0, '8138': 0.0, '50975': 0.0, '126548': 0.0, '144214': 0.0, '158512': 0.0, '99247': 0.0, '115201': 0.0, '148944': 0.0, '150605': 0.0, '190220': 0.0, '205523': 0.0, '207853': 0.0, '125025': 0.0, '3820': 0.0, '34191': 0.0, '50083': 0.0, '57249': 0.0, '91914': 0.0, '145934': 0.0, '163848': 0.0, '164586': 0.0, '165077': 0.0, '185631': 0.0, '49381': 0.0, '49446': 0.0, '52973': 0.0, '68987': 0.0, '73656': 0.0, '95871': 0.0, '159792': 0.0, '184236': 0.0, '62897': 0.0, '74817': 0.0, '89284': 0.0, '145891': 0.0, '205172': 0.0, '30476': 0.0, '42041': 0.0, '52206': 0.0, '84538': 0.0, '96292': 0.0, '121956': 0.0, '126625': 0.0, '165660': 0.0, '182030': 0.0, '192304': 0.0, '213233': 0.0, '66874': 0.0, '168808': 0.0, '21867': 0.0, '75724': 0.0, '153704': 0.0, '14422': 0.0, '15250': 0.0, '35929': 0.0, '53453': 0.0, '56226': 0.0, '58970': 0.0, '62061': 0.0, '114664': 0.0, '114854': 0.0, '154205': 0.0, '178140': 0.0, '196581': 0.0, '5419': 0.0, '59547': 0.0, '64746': 0.0, '65419': 0.0, '71739': 0.0, '135070': 0.0, '136523': 0.0, '137256': 0.0, '152653': 0.0, '163657': 0.0, '164009': 0.0, '164177': 0.0, '165748': 0.0, '167473': 0.0, '167566': 0.0, '167649': 0.0, '167961': 0.0, '168329': 0.0, '176767': 0.0, '178886': 0.0, '203413': 0.0, '81490': 0.0, '105989': 0.0, '118014': 0.0, '118368': 0.0, '128065': 0.0, '160427': 0.0, '101411': 0.0, '116552': 0.0, '181228': 0.0, '24488': 0.0, '59969': 0.0, '84641': 0.0, '121619': 0.0, '148028': 0.0, '149847': 0.0, '175655': 0.0, '206612': 0.0, '71183': 0.0, '94168': 0.0, '98208': 0.0, '125480': 0.0, '156270': 0.0, '173344': 0.0, '58531': 0.0, '66445': 0.0, '93448': 0.0, '112534': 0.0, '201583': 0.0, '212113': 0.0, '3556': 0.0, '23126': 0.0, '117885': 0.0, '130716': 0.0, '136544': 0.0, '141305': 0.0, '154217': 0.0, '156979': 0.0, '157876': 0.0, '184954': 0.0, '220396': 0.0, '222848': 0.0, '29015': 0.0, '63507': 0.0, '104957': 0.0, '142774': 0.0, '188855': 0.0, '210491': 0.0, '210496': 0.0, '66100': 0.0, '98598': 0.0, '107843': 0.0, '109793': 0.0, '119312': 0.0, '119343': 0.0, '119381': 0.0, '119415': 0.0, '119460': 0.0, '119468': 0.0, '119477': 0.0, '119482': 0.0, '129467': 0.0, '215263': 0.0, '64374': 0.0, '138551': 0.0, '192022': 0.0}\n",
      "min_column_index 40724\n",
      "userID_neighbor 1197569\n"
     ]
    },
    {
     "data": {
      "text/plain": [
       "'1197569'"
      ]
     },
     "execution_count": 196,
     "metadata": {},
     "output_type": "execute_result"
    }
   ],
   "source": [
    "#Testing Problem 5 Function - giving it a random user list\n",
    "\n",
    "query_user = [1,70,66,2001,1992,4000] #user 2009 with some slight off\n",
    "\n",
    "nearest_neighbor(query_user)"
   ]
  },
  {
   "cell_type": "code",
   "execution_count": null,
   "metadata": {},
   "outputs": [],
   "source": []
  }
 ],
 "metadata": {
  "kernelspec": {
   "display_name": "Python 3",
   "language": "python",
   "name": "python3"
  },
  "language_info": {
   "codemirror_mode": {
    "name": "ipython",
    "version": 3
   },
   "file_extension": ".py",
   "mimetype": "text/x-python",
   "name": "python",
   "nbconvert_exporter": "python",
   "pygments_lexer": "ipython3",
   "version": "3.6.4"
  }
 },
 "nbformat": 4,
 "nbformat_minor": 2
}
